{
 "cells": [
  {
   "cell_type": "markdown",
   "metadata": {},
   "source": [
    "# Obligatorio 2 - Big Data Science\n",
    "\n",
    "Integrantes del grupo: [completar aquí los nombres de los integrantes]\n",
    "\n",
    "Debajo de cada pregunta o tarea incluya las celdas necesarias para desarrolar la respuesta. Puede usar una o varias celdas de código o mark down (https://www.datacamp.com/community/tutorials/markdown-in-jupyter-notebook)\n",
    "\n",
    "Para entregar, renombrar este notebook como \"Obligatorio 2 - Apellido1 - Apellido 2 - Apellido 3\" con los apellidos de los miembros del grupo. Un solo integrante del grupo debe realizar la entrega. \n"
   ]
  },
  {
   "cell_type": "markdown",
   "metadata": {},
   "source": [
    "1. Cargar los datos del Obligatorio 1, de entrenamiento (.data) y validación (.test) en spark dataframes (distintos). Los nombres de las columnas deben corresponder a los especificados en \"Attribute Information\"."
   ]
  },
  {
   "cell_type": "code",
   "execution_count": 1,
   "metadata": {},
   "outputs": [],
   "source": [
    "from pyspark.context import SparkContext\n",
    "sc = SparkContext('local', 'test')"
   ]
  },
  {
   "cell_type": "code",
   "execution_count": 2,
   "metadata": {},
   "outputs": [
    {
     "data": {
      "text/html": [
       "\n",
       "        <div>\n",
       "            <p><b>SparkContext</b></p>\n",
       "\n",
       "            <p><a href=\"http://DESKTOP-IPN67O4:4040\">Spark UI</a></p>\n",
       "\n",
       "            <dl>\n",
       "              <dt>Version</dt>\n",
       "                <dd><code>v3.1.1</code></dd>\n",
       "              <dt>Master</dt>\n",
       "                <dd><code>local</code></dd>\n",
       "              <dt>AppName</dt>\n",
       "                <dd><code>test</code></dd>\n",
       "            </dl>\n",
       "        </div>\n",
       "        "
      ],
      "text/plain": [
       "<SparkContext master=local appName=test>"
      ]
     },
     "execution_count": 2,
     "metadata": {},
     "output_type": "execute_result"
    }
   ],
   "source": [
    "sc"
   ]
  },
  {
   "cell_type": "code",
   "execution_count": 3,
   "metadata": {},
   "outputs": [],
   "source": [
    "from pyspark.sql import SQLContext\n",
    "\n",
    "spark = SQLContext(sc)"
   ]
  },
  {
   "cell_type": "code",
   "execution_count": 4,
   "metadata": {},
   "outputs": [
    {
     "data": {
      "text/plain": [
       "<pyspark.sql.context.SQLContext at 0x269622c44c0>"
      ]
     },
     "execution_count": 4,
     "metadata": {},
     "output_type": "execute_result"
    }
   ],
   "source": [
    "spark"
   ]
  },
  {
   "cell_type": "code",
   "execution_count": 5,
   "metadata": {},
   "outputs": [],
   "source": [
    "from pyspark.sql.types import *\n",
    "\n",
    "# Schema de los dataset\n",
    "schema = StructType([\n",
    "    StructField(name='age', dataType=IntegerType(), nullable=False),\n",
    "    StructField(name='workclass', dataType=StringType(), nullable=False),\n",
    "    StructField(name='fnlwgt', dataType=StringType(), nullable=False), # Se pone en tipo string porque al ponerlo en tipo Integer o Long carga la columna con valores null\n",
    "    StructField(name='education', dataType=StringType(), nullable=False),\n",
    "    StructField(name='education_num', dataType=StringType(), nullable=False), # Mismo problema que en la columna 'fnlwgt'\n",
    "    StructField(name='marital-status', dataType=StringType(), nullable=False),\n",
    "    StructField(name='occupation', dataType=StringType(), nullable=False),\n",
    "    StructField(name='relationship', dataType=StringType(), nullable=False),\n",
    "    StructField(name='race', dataType=StringType(), nullable=False),\n",
    "    StructField(name='sex', dataType=StringType(), nullable=False),\n",
    "    StructField(name='capital_gain', dataType=StringType(), nullable=False), # Mismo problema que en la columna 'fnlwgt'\n",
    "    StructField(name='capital_loss', dataType=StringType(), nullable=False), # Mismo problema que en la columna 'fnlwgt'\n",
    "    StructField(name='hours_per_week', dataType=StringType(), nullable=False), # Mismo problema que en la columna 'fnlwgt'\n",
    "    StructField(name='native_country', dataType=StringType(), nullable=False),\n",
    "    StructField(name='income', dataType=StringType(), nullable=False)\n",
    "])"
   ]
  },
  {
   "cell_type": "code",
   "execution_count": 6,
   "metadata": {},
   "outputs": [],
   "source": [
    "df_adult = spark.read.csv(\"adult.data\", header=True, schema=schema)\n",
    "df_test = spark.read.csv(\"adult.test\", header=True, schema=schema) # sacamos el punto del archivo adult.test"
   ]
  },
  {
   "cell_type": "code",
   "execution_count": 7,
   "metadata": {},
   "outputs": [
    {
     "name": "stdout",
     "output_type": "stream",
     "text": [
      "+---+-----------------+-------+-------------+-------------+--------------------+------------------+--------------+------+-------+------------+------------+--------------+--------------+------+\n",
      "|age|        workclass| fnlwgt|    education|education_num|      marital-status|        occupation|  relationship|  race|    sex|capital_gain|capital_loss|hours_per_week|native_country|income|\n",
      "+---+-----------------+-------+-------------+-------------+--------------------+------------------+--------------+------+-------+------------+------------+--------------+--------------+------+\n",
      "| 50| Self-emp-not-inc|  83311|    Bachelors|           13|  Married-civ-spouse|   Exec-managerial|       Husband| White|   Male|           0|           0|            13| United-States| <=50K|\n",
      "| 38|          Private| 215646|      HS-grad|            9|            Divorced| Handlers-cleaners| Not-in-family| White|   Male|           0|           0|            40| United-States| <=50K|\n",
      "| 53|          Private| 234721|         11th|            7|  Married-civ-spouse| Handlers-cleaners|       Husband| Black|   Male|           0|           0|            40| United-States| <=50K|\n",
      "| 28|          Private| 338409|    Bachelors|           13|  Married-civ-spouse|    Prof-specialty|          Wife| Black| Female|           0|           0|            40|          Cuba| <=50K|\n",
      "| 37|          Private| 284582|      Masters|           14|  Married-civ-spouse|   Exec-managerial|          Wife| White| Female|           0|           0|            40| United-States| <=50K|\n",
      "| 49|          Private| 160187|          9th|            5| Married-spouse-a...|     Other-service| Not-in-family| Black| Female|           0|           0|            16|       Jamaica| <=50K|\n",
      "| 52| Self-emp-not-inc| 209642|      HS-grad|            9|  Married-civ-spouse|   Exec-managerial|       Husband| White|   Male|           0|           0|            45| United-States|  >50K|\n",
      "| 31|          Private|  45781|      Masters|           14|       Never-married|    Prof-specialty| Not-in-family| White| Female|       14084|           0|            50| United-States|  >50K|\n",
      "| 42|          Private| 159449|    Bachelors|           13|  Married-civ-spouse|   Exec-managerial|       Husband| White|   Male|        5178|           0|            40| United-States|  >50K|\n",
      "| 37|          Private| 280464| Some-college|           10|  Married-civ-spouse|   Exec-managerial|       Husband| Black|   Male|           0|           0|            80| United-States|  >50K|\n",
      "+---+-----------------+-------+-------------+-------------+--------------------+------------------+--------------+------+-------+------------+------------+--------------+--------------+------+\n",
      "only showing top 10 rows\n",
      "\n"
     ]
    }
   ],
   "source": [
    "df_adult.show(10)"
   ]
  },
  {
   "cell_type": "code",
   "execution_count": 8,
   "metadata": {},
   "outputs": [
    {
     "name": "stdout",
     "output_type": "stream",
     "text": [
      "+---+-----------------+-------+-------------+-------------+-------------------+------------------+--------------+------+-------+------------+------------+--------------+--------------+------+\n",
      "|age|        workclass| fnlwgt|    education|education_num|     marital-status|        occupation|  relationship|  race|    sex|capital_gain|capital_loss|hours_per_week|native_country|income|\n",
      "+---+-----------------+-------+-------------+-------------+-------------------+------------------+--------------+------+-------+------------+------------+--------------+--------------+------+\n",
      "| 38|          Private|  89814|      HS-grad|            9| Married-civ-spouse|   Farming-fishing|       Husband| White|   Male|           0|           0|            50| United-States| <=50K|\n",
      "| 28|        Local-gov| 336951|   Assoc-acdm|           12| Married-civ-spouse|   Protective-serv|       Husband| White|   Male|           0|           0|            40| United-States|  >50K|\n",
      "| 44|          Private| 160323| Some-college|           10| Married-civ-spouse| Machine-op-inspct|       Husband| Black|   Male|        7688|           0|            40| United-States|  >50K|\n",
      "| 18|                ?| 103497| Some-college|           10|      Never-married|                 ?|     Own-child| White| Female|           0|           0|            30| United-States| <=50K|\n",
      "| 34|          Private| 198693|         10th|            6|      Never-married|     Other-service| Not-in-family| White|   Male|           0|           0|            30| United-States| <=50K|\n",
      "| 29|                ?| 227026|      HS-grad|            9|      Never-married|                 ?|     Unmarried| Black|   Male|           0|           0|            40| United-States| <=50K|\n",
      "| 63| Self-emp-not-inc| 104626|  Prof-school|           15| Married-civ-spouse|    Prof-specialty|       Husband| White|   Male|        3103|           0|            32| United-States|  >50K|\n",
      "| 24|          Private| 369667| Some-college|           10|      Never-married|     Other-service|     Unmarried| White| Female|           0|           0|            40| United-States| <=50K|\n",
      "| 55|          Private| 104996|      7th-8th|            4| Married-civ-spouse|      Craft-repair|       Husband| White|   Male|           0|           0|            10| United-States| <=50K|\n",
      "| 65|          Private| 184454|      HS-grad|            9| Married-civ-spouse| Machine-op-inspct|       Husband| White|   Male|        6418|           0|            40| United-States|  >50K|\n",
      "+---+-----------------+-------+-------------+-------------+-------------------+------------------+--------------+------+-------+------------+------------+--------------+--------------+------+\n",
      "only showing top 10 rows\n",
      "\n"
     ]
    }
   ],
   "source": [
    "df_test.show(10)"
   ]
  },
  {
   "cell_type": "markdown",
   "metadata": {},
   "source": [
    "2. Seleccionar un conjunto relevante de 5 atributos y crear un Spark Pipeline en el que el estimator sea un DecisionTreeClassifier (https://spark.apache.org/docs/latest/ml-classification-regression.html#decision-tree-classifier). Puede utilizar libremente los transformers/estimators de Spark para realizar ingeniería de atributos (StringIndexer, OneHotEncoding, etc)."
   ]
  },
  {
   "cell_type": "code",
   "execution_count": 9,
   "metadata": {},
   "outputs": [],
   "source": [
    "atributos = [\"age\", \"sex\", \"occupation\", \"education\", \"workclass\"]\n",
    "\n",
    "#Primero hay que bucketizar la edad. La separamos en 3 buckets. \n",
    "\n",
    "def calculo_de_buckets(df, cantidad_buckets, columna):\n",
    "    df.createOrReplaceTempView(\"df_view\")\n",
    "    instancias_totales = spark.sql('''SELECT count(*) as count FROM df_view''').first()['count']\n",
    "    instancias_en_bucket = instancias_totales / cantidad_buckets\n",
    "    \n",
    "    limites = []\n",
    "    ultimo_limite_superior = None\n",
    "    for limit in range(0, instancias_totales - 1, round(instancias_en_bucket)): # se pone un -1 porque instancias totales es el count pero queremos llegar hasta el indice        \n",
    "        query = spark.sql(f'''SELECT {columna} FROM df_view ORDER BY 1 asc''').collect()\n",
    "        limite_inferior = query[limit][columna]\n",
    "        \n",
    "        if(ultimo_limite_superior is not None):\n",
    "            if ultimo_limite_superior == limite_inferior:\n",
    "                limite_inferior += 1;\n",
    "        \n",
    "        limite = [limite_inferior, query[limit + round(instancias_en_bucket)][columna]]\n",
    "        limites.append(limite)\n",
    "        \n",
    "        ultimo_limite_superior = query[limit + round(instancias_en_bucket)][columna]\n",
    "\n",
    "    return limites\n",
    "\n",
    "limites = calculo_de_buckets(df_adult, 3, \"age\")"
   ]
  },
  {
   "cell_type": "code",
   "execution_count": 10,
   "metadata": {},
   "outputs": [],
   "source": [
    "from pyspark.sql import functions as F\n",
    "\n",
    "def age_bucket_udf(age):\n",
    "    indexes = range(len(limites))\n",
    "    for index, limite in zip(indexes, limites):\n",
    "        if age in range(limite[0], limite[1] + 1):    #Se agrega el +1 para hacer el range inclusivo superiormente\n",
    "            return str(index)\n",
    "\n",
    "age_udf = F.udf(age_bucket_udf, StringType())\n",
    "\n",
    "df_adult_bucketized = df_adult.withColumn(\"ageBucket\", age_udf(F.col(\"age\")))\n",
    "df_test_bucketized = df_test.withColumn(\"ageBucket\", age_udf(F.col(\"age\")))"
   ]
  },
  {
   "cell_type": "code",
   "execution_count": 11,
   "metadata": {},
   "outputs": [],
   "source": [
    "from pyspark.ml import Pipeline\n",
    "from pyspark.ml.classification import DecisionTreeClassifier\n",
    "from pyspark.ml.feature import StringIndexer, VectorIndexer, VectorAssembler"
   ]
  },
  {
   "cell_type": "code",
   "execution_count": 12,
   "metadata": {},
   "outputs": [],
   "source": [
    "def get_indexers(columnas):\n",
    "    \n",
    "    list_indexer = []\n",
    "    \n",
    "    for columna in columnas:\n",
    "        list_indexer.append(StringIndexer(inputCol=columna, outputCol=columna+\"Index\"))\n",
    "    \n",
    "    return list_indexer"
   ]
  },
  {
   "cell_type": "code",
   "execution_count": 83,
   "metadata": {},
   "outputs": [],
   "source": [
    "def get_pipeline(\n",
    "                categoricalColumns=[\"sex\", \"occupation\", \"education\", \"workclass\", \"ageBucket\"],\n",
    "                labelCol='income',\n",
    "                thresholds=None\n",
    "                ):\n",
    "    stages = []\n",
    "\n",
    "    stages += get_indexers([labelCol])\n",
    "\n",
    "    stages += get_indexers(categoricalColumns)\n",
    "\n",
    "    assembler_input = [c + \"Index\" for c in categoricalColumns]\n",
    "\n",
    "    assembler = VectorAssembler(\n",
    "        inputCols=assembler_input,\n",
    "        outputCol=\"features\")\n",
    "\n",
    "    stages += [assembler]\n",
    "    \n",
    "    dt = DecisionTreeClassifier(labelCol=labelCol+\"Index\", featuresCol=\"features\")\n",
    "    \n",
    "    if thresholds:\n",
    "        dt.setThresholds(thresholds)\n",
    "\n",
    "    stages += [dt]\n",
    "    \n",
    "    return Pipeline(stages=stages)"
   ]
  },
  {
   "cell_type": "code",
   "execution_count": 52,
   "metadata": {},
   "outputs": [],
   "source": [
    "pipeline = get_pipeline()"
   ]
  },
  {
   "cell_type": "markdown",
   "metadata": {},
   "source": [
    "3. Hacer el fit del pipeline con los datos de entrenamiento. \n"
   ]
  },
  {
   "cell_type": "code",
   "execution_count": 53,
   "metadata": {},
   "outputs": [],
   "source": [
    "trainingData = df_adult_bucketized\n",
    "testData = df_test_bucketized"
   ]
  },
  {
   "cell_type": "code",
   "execution_count": 54,
   "metadata": {},
   "outputs": [],
   "source": [
    "model = pipeline.fit(trainingData)"
   ]
  },
  {
   "cell_type": "code",
   "execution_count": null,
   "metadata": {},
   "outputs": [],
   "source": [
    "# Analisis extra"
   ]
  },
  {
   "cell_type": "code",
   "execution_count": 55,
   "metadata": {},
   "outputs": [],
   "source": [
    "predictions = model.transform(testData)"
   ]
  },
  {
   "cell_type": "code",
   "execution_count": 81,
   "metadata": {},
   "outputs": [
    {
     "name": "stdout",
     "output_type": "stream",
     "text": [
      "+---+-----------------+-------+-------------+-------------+-------------------+------------------+--------------+------+-------+------------+------------+--------------+--------------+------+---------+-----------+--------+---------------+--------------+--------------+--------------+----------------------+----------------+----------------------------------------+----------+\n",
      "|age|workclass        |fnlwgt |education    |education_num|marital-status     |occupation        |relationship  |race  |sex    |capital_gain|capital_loss|hours_per_week|native_country|income|ageBucket|incomeIndex|sexIndex|occupationIndex|educationIndex|workclassIndex|ageBucketIndex|features              |rawPrediction   |probability                             |prediction|\n",
      "+---+-----------------+-------+-------------+-------------+-------------------+------------------+--------------+------+-------+------------+------------+--------------+--------------+------+---------+-----------+--------+---------------+--------------+--------------+--------------+----------------------+----------------+----------------------------------------+----------+\n",
      "|38 | Private         | 89814 | HS-grad     | 9           | Married-civ-spouse| Farming-fishing  | Husband      | White| Male  | 0          | 0          | 50           | United-States| <=50K|1        |0.0        |0.0     |10.0           |0.0           |0.0           |1.0           |(5,[1,4],[10.0,1.0])  |[20340.0,4014.0]|[0.8351810790835181,0.1648189209164819] |0.0       |\n",
      "|28 | Local-gov       | 336951| Assoc-acdm  | 12          | Married-civ-spouse| Protective-serv  | Husband      | White| Male  | 0          | 0          | 40           | United-States| >50K |0        |1.0        |0.0     |12.0           |6.0           |2.0           |0.0           |[0.0,12.0,6.0,2.0,0.0]|[20340.0,4014.0]|[0.8351810790835181,0.1648189209164819] |0.0       |\n",
      "|44 | Private         | 160323| Some-college| 10          | Married-civ-spouse| Machine-op-inspct| Husband      | Black| Male  | 7688       | 0          | 40           | United-States| >50K |1        |1.0        |0.0     |6.0            |1.0           |0.0           |1.0           |[0.0,6.0,1.0,0.0,1.0] |[20340.0,4014.0]|[0.8351810790835181,0.1648189209164819] |0.0       |\n",
      "|18 | ?               | 103497| Some-college| 10          | Never-married     | ?                | Own-child    | White| Female| 0          | 0          | 30           | United-States| <=50K|0        |0.0        |1.0     |7.0            |1.0           |3.0           |0.0           |[1.0,7.0,1.0,3.0,0.0] |[20340.0,4014.0]|[0.8351810790835181,0.1648189209164819] |0.0       |\n",
      "|34 | Private         | 198693| 10th        | 6           | Never-married     | Other-service    | Not-in-family| White| Male  | 0          | 0          | 30           | United-States| <=50K|1        |0.0        |0.0     |5.0            |7.0           |0.0           |1.0           |[0.0,5.0,7.0,0.0,1.0] |[20340.0,4014.0]|[0.8351810790835181,0.1648189209164819] |0.0       |\n",
      "|29 | ?               | 227026| HS-grad     | 9           | Never-married     | ?                | Unmarried    | Black| Male  | 0          | 0          | 40           | United-States| <=50K|0        |0.0        |0.0     |7.0            |0.0           |3.0           |0.0           |(5,[1,3],[7.0,3.0])   |[20340.0,4014.0]|[0.8351810790835181,0.1648189209164819] |0.0       |\n",
      "|63 | Self-emp-not-inc| 104626| Prof-school | 15          | Married-civ-spouse| Prof-specialty   | Husband      | White| Male  | 3103       | 0          | 32           | United-States| >50K |2        |1.0        |0.0     |0.0            |9.0           |1.0           |2.0           |[0.0,0.0,9.0,1.0,2.0] |[739.0,1927.0]  |[0.27719429857464367,0.7228057014253564]|1.0       |\n",
      "|24 | Private         | 369667| Some-college| 10          | Never-married     | Other-service    | Unmarried    | White| Female| 0          | 0          | 40           | United-States| <=50K|0        |0.0        |1.0     |5.0            |1.0           |0.0           |0.0           |[1.0,5.0,1.0,0.0,0.0] |[20340.0,4014.0]|[0.8351810790835181,0.1648189209164819] |0.0       |\n",
      "|55 | Private         | 104996| 7th-8th     | 4           | Married-civ-spouse| Craft-repair     | Husband      | White| Male  | 0          | 0          | 10           | United-States| <=50K|2        |0.0        |0.0     |1.0            |8.0           |0.0           |2.0           |[0.0,1.0,8.0,0.0,2.0] |[20340.0,4014.0]|[0.8351810790835181,0.1648189209164819] |0.0       |\n",
      "|65 | Private         | 184454| HS-grad     | 9           | Married-civ-spouse| Machine-op-inspct| Husband      | White| Male  | 6418       | 0          | 40           | United-States| >50K |2        |1.0        |0.0     |6.0            |0.0           |0.0           |2.0           |(5,[1,4],[6.0,2.0])   |[20340.0,4014.0]|[0.8351810790835181,0.1648189209164819] |0.0       |\n",
      "+---+-----------------+-------+-------------+-------------+-------------------+------------------+--------------+------+-------+------------+------------+--------------+--------------+------+---------+-----------+--------+---------------+--------------+--------------+--------------+----------------------+----------------+----------------------------------------+----------+\n",
      "only showing top 10 rows\n",
      "\n"
     ]
    }
   ],
   "source": [
    "predictions.show(10, truncate=False)"
   ]
  },
  {
   "cell_type": "code",
   "execution_count": 57,
   "metadata": {},
   "outputs": [
    {
     "name": "stdout",
     "output_type": "stream",
     "text": [
      "+------+----------+--------+\n",
      "|income|prediction|count(1)|\n",
      "+------+----------+--------+\n",
      "|  >50K|       1.0|    1109|\n",
      "| <=50K|       1.0|     535|\n",
      "| <=50K|       0.0|   11899|\n",
      "|  >50K|       0.0|    2737|\n",
      "+------+----------+--------+\n",
      "\n"
     ]
    }
   ],
   "source": [
    "df_ = predictions\n",
    "\n",
    "df_.createOrReplaceTempView('df_')\n",
    "\n",
    "df_aciertos = spark.sql(\"\"\"\n",
    "    SELECT income, prediction, count(*)\n",
    "    FROM df_\n",
    "    GROUP BY 1, 2\n",
    "\"\"\")\n",
    "\n",
    "df_aciertos.show()"
   ]
  },
  {
   "cell_type": "code",
   "execution_count": 58,
   "metadata": {},
   "outputs": [
    {
     "data": {
      "text/html": [
       "<div>\n",
       "<style scoped>\n",
       "    .dataframe tbody tr th:only-of-type {\n",
       "        vertical-align: middle;\n",
       "    }\n",
       "\n",
       "    .dataframe tbody tr th {\n",
       "        vertical-align: top;\n",
       "    }\n",
       "\n",
       "    .dataframe thead th {\n",
       "        text-align: right;\n",
       "    }\n",
       "</style>\n",
       "<table border=\"1\" class=\"dataframe\">\n",
       "  <thead>\n",
       "    <tr style=\"text-align: right;\">\n",
       "      <th></th>\n",
       "      <th>POSITIVO ACTUAL</th>\n",
       "      <th>NEGATIVO ACTUAL</th>\n",
       "    </tr>\n",
       "  </thead>\n",
       "  <tbody>\n",
       "    <tr>\n",
       "      <th>POSITIVO PREDECIDO</th>\n",
       "      <td>1109</td>\n",
       "      <td>535</td>\n",
       "    </tr>\n",
       "    <tr>\n",
       "      <th>NEGATIVO PREDECIDO</th>\n",
       "      <td>2737</td>\n",
       "      <td>11899</td>\n",
       "    </tr>\n",
       "  </tbody>\n",
       "</table>\n",
       "</div>"
      ],
      "text/plain": [
       "                    POSITIVO ACTUAL  NEGATIVO ACTUAL\n",
       "POSITIVO PREDECIDO             1109              535\n",
       "NEGATIVO PREDECIDO             2737            11899"
      ]
     },
     "execution_count": 58,
     "metadata": {},
     "output_type": "execute_result"
    }
   ],
   "source": [
    "# MATRIZ DE CONFUSION\n",
    "import pandas as pd\n",
    "pd.DataFrame([[1109, 535], [2737, 11899]], columns=['POSITIVO ACTUAL', 'NEGATIVO ACTUAL'], index = ['POSITIVO PREDECIDO', 'NEGATIVO PREDECIDO'])"
   ]
  },
  {
   "cell_type": "markdown",
   "metadata": {},
   "source": [
    "4. Graficar la curva ROC utilizando los datos de validación (sin usar el paquete de evluación de Spark pyspark.ml.evaluation)"
   ]
  },
  {
   "cell_type": "code",
   "execution_count": 59,
   "metadata": {},
   "outputs": [],
   "source": [
    "trainingData = df_adult_bucketized\n",
    "testData = df_test_bucketized"
   ]
  },
  {
   "cell_type": "code",
   "execution_count": 143,
   "metadata": {},
   "outputs": [],
   "source": [
    "def get_tpr_and_fpr(prediction):\n",
    "    \n",
    "    df_ = predictions\n",
    "\n",
    "    df_.createOrReplaceTempView('df_')\n",
    "\n",
    "    df_aciertos = spark.sql(\"\"\"\n",
    "        SELECT income, prediction, count(*) as count\n",
    "        FROM df_\n",
    "        GROUP BY 1, 2\n",
    "    \"\"\")\n",
    "    \n",
    "    tp = df_aciertos.where('income = \" >50K\" and prediction = 1.0').first()['count'] if df_aciertos.where('income = \" >50K\" and prediction = 1.0').count() > 0 else 0\n",
    "    \n",
    "    fn = df_aciertos.where('income = \" >50K\" and prediction = \"0.0\"').first()['count'] if df_aciertos.where('income = \" >50K\" and prediction = \"0.0\"').count() > 0 else 0\n",
    "    \n",
    "    \n",
    "    fp = df_aciertos.where('income = \" <=50K\" and prediction = 1.0').first()['count'] if df_aciertos.where('income = \" <=50K\" and prediction = 1.0').count() > 0 else 0\n",
    "    \n",
    "    \n",
    "    tn = df_aciertos.where('income = \" <=50K\" and prediction = 0.0').first()['count'] if df_aciertos.where('income = \" <=50K\" and prediction = 0.0').count() > 0 else 0\n",
    "    \n",
    "        \n",
    "    tpr = tp/(tp + fn)\n",
    "    \n",
    "    fpr = fp/(tn + fp)\n",
    "    \n",
    "    return (tpr, fpr)"
   ]
  },
  {
   "cell_type": "code",
   "execution_count": 108,
   "metadata": {},
   "outputs": [
    {
     "data": {
      "text/plain": [
       "(1.0, 0.0)"
      ]
     },
     "execution_count": 108,
     "metadata": {},
     "output_type": "execute_result"
    }
   ],
   "source": [
    "get_tpr_and_fpr(predictions)"
   ]
  },
  {
   "cell_type": "code",
   "execution_count": 144,
   "metadata": {},
   "outputs": [
    {
     "name": "stdout",
     "output_type": "stream",
     "text": [
      "0.0\n",
      "0.05\n",
      "0.1\n",
      "0.15\n",
      "0.2\n",
      "0.25\n",
      "0.3\n",
      "0.35\n",
      "0.4\n",
      "0.45\n",
      "0.5\n",
      "0.55\n",
      "0.6\n",
      "0.65\n",
      "0.7\n",
      "0.75\n",
      "0.8\n",
      "0.85\n",
      "0.9\n",
      "0.95\n",
      "1.0\n"
     ]
    }
   ],
   "source": [
    "thresholds = range(0, 105, 5)\n",
    "\n",
    "values = []\n",
    "\n",
    "for t in thresholds:\n",
    "    t = t/100\n",
    "    print(t)\n",
    "    \n",
    "    pipeline = get_pipeline(thresholds=[1-t, t])\n",
    "    \n",
    "    model = pipeline.fit(trainingData)\n",
    "    \n",
    "    predictions = model.transform(testData)\n",
    "    \n",
    "    tpr, fpr = get_tpr_and_fpr(predictions)\n",
    "    \n",
    "    values.append([t, [tpr, fpr]])    "
   ]
  },
  {
   "cell_type": "code",
   "execution_count": 145,
   "metadata": {},
   "outputs": [
    {
     "data": {
      "text/plain": [
       "[[0.0, [1.0, 1.0]],\n",
       " [0.05, [1.0, 1.0]],\n",
       " [0.1, [1.0, 1.0]],\n",
       " [0.15, [1.0, 1.0]],\n",
       " [0.2, [0.48491939677587104, 0.17588869229531928]],\n",
       " [0.25, [0.36479459178367135, 0.0657069326041499]],\n",
       " [0.3, [0.36479459178367135, 0.0657069326041499]],\n",
       " [0.35, [0.36479459178367135, 0.0657069326041499]],\n",
       " [0.4, [0.36479459178367135, 0.0657069326041499]],\n",
       " [0.45, [0.36479459178367135, 0.0657069326041499]],\n",
       " [0.5, [0.28835153406136244, 0.04302718352903329]],\n",
       " [0.55, [0.28835153406136244, 0.04302718352903329]],\n",
       " [0.6, [0.28835153406136244, 0.04302718352903329]],\n",
       " [0.65, [0.24128965158606344, 0.03112433649670259]],\n",
       " [0.7, [0.24128965158606344, 0.03112433649670259]],\n",
       " [0.75, [0.0, 0.0]],\n",
       " [0.8, [0.0, 0.0]],\n",
       " [0.85, [0.0, 0.0]],\n",
       " [0.9, [0.0, 0.0]],\n",
       " [0.95, [0.0, 0.0]],\n",
       " [1.0, [0.0, 0.0]]]"
      ]
     },
     "execution_count": 145,
     "metadata": {},
     "output_type": "execute_result"
    }
   ],
   "source": [
    "values"
   ]
  },
  {
   "cell_type": "code",
   "execution_count": 146,
   "metadata": {},
   "outputs": [],
   "source": [
    "df = pd.DataFrame([(p,tpr,fpr) for (p,(tpr,fpr)) in values], columns=['p', 'tpr', 'fpr'])"
   ]
  },
  {
   "cell_type": "code",
   "execution_count": 151,
   "metadata": {},
   "outputs": [
    {
     "data": {
      "text/plain": [
       "<AxesSubplot:title={'center':'ROC (Receiver Operating Characteristic) Curve'}, xlabel='fpr'>"
      ]
     },
     "execution_count": 151,
     "metadata": {},
     "output_type": "execute_result"
    },
    {
     "data": {
      "image/png": "[encoded data removed]",
      "text/plain": [
       "<Figure size 432x288 with 1 Axes>"
      ]
     },
     "metadata": {
      "needs_background": "light"
     },
     "output_type": "display_data"
    }
   ],
   "source": [
    "df.plot(style='.-',x='fpr',y='tpr', \n",
    "        title=\"ROC (Receiver Operating Characteristic) Curve\")"
   ]
  },
  {
   "cell_type": "markdown",
   "metadata": {},
   "source": [
    "5. Escribir dos funciones train() y predict() que creen el arbol de acuerdo a la metodología vista en clase (utilizando entropía como métrica de homogeneidad de clases).\n",
    "```\n",
    "def train(train_dataframe):\n",
    "    '''\n",
    "    @return devuelve una estructura de datos que representa el árbol de decision\n",
    "    '''\n",
    "     pass        \n",
    "```\n",
    "\n",
    "```\n",
    "def predict(tree, train_dataframe)\n",
    "    '''\n",
    "    @param tree la estructura de datos que representa el árbol de decisión.\n",
    "    @ return un dataframe con todos los datos de train_dataframe con una columna adicional que representa la probabilidad de que el income sea >50K. \n",
    "    '''\n",
    "    pass\n",
    "```    \n",
    "Ejemplo de uso:\n",
    "\n",
    "```\n",
    "tree = train(train_dataframe)\n",
    "predictions_df = predict(tree, train_dataframe)\n",
    "```"
   ]
  },
  {
   "cell_type": "code",
   "execution_count": 154,
   "metadata": {},
   "outputs": [],
   "source": [
    "import math\n",
    "def entropy(probabs):\n",
    "    return -sum([ p * math.log(p,2) for p in probabs])"
   ]
  },
  {
   "cell_type": "code",
   "execution_count": 160,
   "metadata": {},
   "outputs": [],
   "source": [
    "def get_feature_entropy(df, col):\n",
    "    ncol = df.select(col).distinct().collect()\n",
    "    ncol = [row[col] for  row in ncol]\n",
    "    \n",
    "    total = df.count()\n",
    "    \n",
    "    prob_valor = {}\n",
    "    \n",
    "    entropy_valor = {}\n",
    "    \n",
    "    for valor in ncol:\n",
    "        ntmp = df.select(col).where(f'\"{col}\" = \"{valor}\"').count()\n",
    "        \n",
    "        prob_valor[valor] = ntmp/total\n",
    "        \n",
    "        ntmp_pos = df.select(col).where(f'{col} = \"{valor}\" and income = \" >50K\"').count()\n",
    "        \n",
    "        prob_pos = ntmp_pos/ntmp\n",
    "        \n",
    "        prob_neg = 1 - prob_pos\n",
    "        \n",
    "        entropy = entropy([prob_pos, prob_neg])\n",
    "        \n",
    "        entropy_valor[valor] = entropy\n",
    "    \n",
    "    suma_ponderada = 0\n",
    "    \n",
    "    for valor in ncol:\n",
    "        suma_ponderada += prob_valor[valor] * entropy_valor[valor]\n",
    "    \n",
    "    return suma_ponderada"
   ]
  },
  {
   "cell_type": "code",
   "execution_count": 172,
   "metadata": {},
   "outputs": [],
   "source": [
    "def make_split(df, root, categorias):\n",
    "    categoria_entropy = {}\n",
    "    \n",
    "    for categoria in categorias:\n",
    "        categoria_entropy[categoria] = get_feature_entropy(df, categoria)\n",
    "        \n",
    "    categoria_minima = min(categoria_entropy, key=categoria_entropy.get)\n",
    "    \n",
    "    valores_categoria = [valores[categoria_minima] for valores in df.select(categoria_minima).distinct().collect()]\n",
    "    \n",
    "    for valor in valores_categoria:\n",
    "        root.hijos.append({'key': valor , 'nodo': Nodo(valor=valor, padre=root)})\n",
    "    \n",
    "    \n",
    "    \n",
    "    \n",
    "    "
   ]
  },
  {
   "cell_type": "code",
   "execution_count": 170,
   "metadata": {},
   "outputs": [
    {
     "data": {
      "text/plain": [
       "'key0'"
      ]
     },
     "execution_count": 170,
     "metadata": {},
     "output_type": "execute_result"
    }
   ],
   "source": [
    "d = {'key0': 0, 'key1': 0, 'key2': -1}\n",
    "max(d,key=d.get)"
   ]
  },
  {
   "cell_type": "code",
   "execution_count": null,
   "metadata": {},
   "outputs": [],
   "source": []
  },
  {
   "cell_type": "code",
   "execution_count": 171,
   "metadata": {},
   "outputs": [],
   "source": [
    "class Nodo:\n",
    "    def __init__(self, valor, padre, hijos=None):\n",
    "        self.valor = valor\n",
    "        \n",
    "        if padre == 'root':\n",
    "            self.padre = None\n",
    "        else:\n",
    "            self.padre = padre\n",
    "        \n",
    "        self.hijos = [] if not hijos else hijos\n",
    "            "
   ]
  },
  {
   "cell_type": "code",
   "execution_count": 158,
   "metadata": {},
   "outputs": [],
   "source": []
  },
  {
   "cell_type": "code",
   "execution_count": 159,
   "metadata": {},
   "outputs": [
    {
     "data": {
      "text/plain": [
       "{'valor': '121', 'padre': None, 'hijos': None}"
      ]
     },
     "execution_count": 159,
     "metadata": {},
     "output_type": "execute_result"
    }
   ],
   "source": []
  },
  {
   "cell_type": "markdown",
   "metadata": {},
   "source": [
    "<i>[Extra credit y alumnos masters]</i>\n",
    "    \n",
    "5.  Mejorar la implementación de su algoritmo evitando hacer el split cuando no se logra un mínimo de Information Gain ( https://en.wikipedia.org/wiki/Information_gain_in_decision_trees   )\n"
   ]
  },
  {
   "cell_type": "code",
   "execution_count": 23,
   "metadata": {},
   "outputs": [],
   "source": [
    "#"
   ]
  }
 ],
 "metadata": {
  "kernelspec": {
   "display_name": "Python 3",
   "language": "python",
   "name": "python3"
  },
  "language_info": {
   "codemirror_mode": {
    "name": "ipython",
    "version": 3
   },
   "file_extension": ".py",
   "mimetype": "text/x-python",
   "name": "python",
   "nbconvert_exporter": "python",
   "pygments_lexer": "ipython3",
   "version": "3.8.10"
  }
 },
 "nbformat": 4,
 "nbformat_minor": 4
}
