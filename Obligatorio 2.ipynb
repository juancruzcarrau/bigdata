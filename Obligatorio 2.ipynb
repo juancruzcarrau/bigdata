{
 "cells": [
  {
   "cell_type": "markdown",
   "metadata": {},
   "source": [
    "# Obligatorio 2 - Big Data Science\n",
    "\n",
    "Integrantes del grupo: [completar aquí los nombres de los integrantes]\n",
    "\n",
    "Debajo de cada pregunta o tarea incluya las celdas necesarias para desarrolar la respuesta. Puede usar una o varias celdas de código o mark down (https://www.datacamp.com/community/tutorials/markdown-in-jupyter-notebook)\n",
    "\n",
    "Para entregar, renombrar este notebook como \"Obligatorio 2 - Apellido1 - Apellido 2 - Apellido 3\" con los apellidos de los miembros del grupo. Un solo integrante del grupo debe realizar la entrega. \n"
   ]
  },
  {
   "cell_type": "markdown",
   "metadata": {},
   "source": [
    "1. Cargar los datos del Obligatorio 1, de entrenamiento (.data) y validación (.test) en spark dataframes (distintos). Los nombres de las columnas deben corresponder a los especificados en \"Attribute Information\"."
   ]
  },
  {
   "cell_type": "code",
   "execution_count": 1,
   "metadata": {},
   "outputs": [],
   "source": [
    "from pyspark.context import SparkContext\n",
    "sc = SparkContext('local', 'test')"
   ]
  },
  {
   "cell_type": "code",
   "execution_count": 2,
   "metadata": {},
   "outputs": [
    {
     "data": {
      "text/html": [
       "\n",
       "        <div>\n",
       "            <p><b>SparkContext</b></p>\n",
       "\n",
       "            <p><a href=\"http://DESKTOP-IPN67O4:4040\">Spark UI</a></p>\n",
       "\n",
       "            <dl>\n",
       "              <dt>Version</dt>\n",
       "                <dd><code>v3.1.1</code></dd>\n",
       "              <dt>Master</dt>\n",
       "                <dd><code>local</code></dd>\n",
       "              <dt>AppName</dt>\n",
       "                <dd><code>test</code></dd>\n",
       "            </dl>\n",
       "        </div>\n",
       "        "
      ],
      "text/plain": [
       "<SparkContext master=local appName=test>"
      ]
     },
     "execution_count": 2,
     "metadata": {},
     "output_type": "execute_result"
    }
   ],
   "source": [
    "sc"
   ]
  },
  {
   "cell_type": "code",
   "execution_count": 3,
   "metadata": {},
   "outputs": [],
   "source": [
    "from pyspark.sql import SQLContext\n",
    "\n",
    "spark = SQLContext(sc)"
   ]
  },
  {
   "cell_type": "code",
   "execution_count": 4,
   "metadata": {},
   "outputs": [
    {
     "data": {
      "text/plain": [
       "<pyspark.sql.context.SQLContext at 0x20fc0475310>"
      ]
     },
     "execution_count": 4,
     "metadata": {},
     "output_type": "execute_result"
    }
   ],
   "source": [
    "spark"
   ]
  },
  {
   "cell_type": "code",
   "execution_count": 5,
   "metadata": {},
   "outputs": [],
   "source": [
    "from pyspark.sql.types import *\n",
    "\n",
    "# Schema de los dataset\n",
    "schema = StructType([\n",
    "    StructField(name='age', dataType=IntegerType(), nullable=False),\n",
    "    StructField(name='workclass', dataType=StringType(), nullable=False),\n",
    "    StructField(name='fnlwgt', dataType=StringType(), nullable=False), # Se pone en tipo string porque al ponerlo en tipo Integer o Long carga la columna con valores null\n",
    "    StructField(name='education', dataType=StringType(), nullable=False),\n",
    "    StructField(name='education_num', dataType=StringType(), nullable=False), # Mismo problema que en la columna 'fnlwgt'\n",
    "    StructField(name='marital-status', dataType=StringType(), nullable=False),\n",
    "    StructField(name='occupation', dataType=StringType(), nullable=False),\n",
    "    StructField(name='relationship', dataType=StringType(), nullable=False),\n",
    "    StructField(name='race', dataType=StringType(), nullable=False),\n",
    "    StructField(name='sex', dataType=StringType(), nullable=False),\n",
    "    StructField(name='capital_gain', dataType=StringType(), nullable=False), # Mismo problema que en la columna 'fnlwgt'\n",
    "    StructField(name='capital_loss', dataType=StringType(), nullable=False), # Mismo problema que en la columna 'fnlwgt'\n",
    "    StructField(name='hours_per_week', dataType=StringType(), nullable=False), # Mismo problema que en la columna 'fnlwgt'\n",
    "    StructField(name='native_country', dataType=StringType(), nullable=False),\n",
    "    StructField(name='income', dataType=StringType(), nullable=False)\n",
    "])"
   ]
  },
  {
   "cell_type": "code",
   "execution_count": 6,
   "metadata": {},
   "outputs": [],
   "source": [
    "df_adult = spark.read.csv(\"adult.data\", header=True, schema=schema)\n",
    "df_test = spark.read.csv(\"adult.test\", header=True, schema=schema)"
   ]
  },
  {
   "cell_type": "code",
   "execution_count": 7,
   "metadata": {},
   "outputs": [
    {
     "name": "stdout",
     "output_type": "stream",
     "text": [
      "+---+-----------------+-------+-------------+-------------+--------------------+------------------+--------------+------+-------+------------+------------+--------------+--------------+------+\n",
      "|age|        workclass| fnlwgt|    education|education_num|      marital-status|        occupation|  relationship|  race|    sex|capital_gain|capital_loss|hours_per_week|native_country|income|\n",
      "+---+-----------------+-------+-------------+-------------+--------------------+------------------+--------------+------+-------+------------+------------+--------------+--------------+------+\n",
      "| 50| Self-emp-not-inc|  83311|    Bachelors|           13|  Married-civ-spouse|   Exec-managerial|       Husband| White|   Male|           0|           0|            13| United-States| <=50K|\n",
      "| 38|          Private| 215646|      HS-grad|            9|            Divorced| Handlers-cleaners| Not-in-family| White|   Male|           0|           0|            40| United-States| <=50K|\n",
      "| 53|          Private| 234721|         11th|            7|  Married-civ-spouse| Handlers-cleaners|       Husband| Black|   Male|           0|           0|            40| United-States| <=50K|\n",
      "| 28|          Private| 338409|    Bachelors|           13|  Married-civ-spouse|    Prof-specialty|          Wife| Black| Female|           0|           0|            40|          Cuba| <=50K|\n",
      "| 37|          Private| 284582|      Masters|           14|  Married-civ-spouse|   Exec-managerial|          Wife| White| Female|           0|           0|            40| United-States| <=50K|\n",
      "| 49|          Private| 160187|          9th|            5| Married-spouse-a...|     Other-service| Not-in-family| Black| Female|           0|           0|            16|       Jamaica| <=50K|\n",
      "| 52| Self-emp-not-inc| 209642|      HS-grad|            9|  Married-civ-spouse|   Exec-managerial|       Husband| White|   Male|           0|           0|            45| United-States|  >50K|\n",
      "| 31|          Private|  45781|      Masters|           14|       Never-married|    Prof-specialty| Not-in-family| White| Female|       14084|           0|            50| United-States|  >50K|\n",
      "| 42|          Private| 159449|    Bachelors|           13|  Married-civ-spouse|   Exec-managerial|       Husband| White|   Male|        5178|           0|            40| United-States|  >50K|\n",
      "| 37|          Private| 280464| Some-college|           10|  Married-civ-spouse|   Exec-managerial|       Husband| Black|   Male|           0|           0|            80| United-States|  >50K|\n",
      "+---+-----------------+-------+-------------+-------------+--------------------+------------------+--------------+------+-------+------------+------------+--------------+--------------+------+\n",
      "only showing top 10 rows\n",
      "\n"
     ]
    }
   ],
   "source": [
    "df_adult.show(10)"
   ]
  },
  {
   "cell_type": "code",
   "execution_count": 8,
   "metadata": {},
   "outputs": [
    {
     "name": "stdout",
     "output_type": "stream",
     "text": [
      "+---+-----------------+-------+-------------+-------------+-------------------+------------------+--------------+------+-------+------------+------------+--------------+--------------+-------+\n",
      "|age|        workclass| fnlwgt|    education|education_num|     marital-status|        occupation|  relationship|  race|    sex|capital_gain|capital_loss|hours_per_week|native_country| income|\n",
      "+---+-----------------+-------+-------------+-------------+-------------------+------------------+--------------+------+-------+------------+------------+--------------+--------------+-------+\n",
      "| 25|          Private| 226802|         11th|            7|      Never-married| Machine-op-inspct|     Own-child| Black|   Male|           0|           0|            40| United-States| <=50K.|\n",
      "| 38|          Private|  89814|      HS-grad|            9| Married-civ-spouse|   Farming-fishing|       Husband| White|   Male|           0|           0|            50| United-States| <=50K.|\n",
      "| 28|        Local-gov| 336951|   Assoc-acdm|           12| Married-civ-spouse|   Protective-serv|       Husband| White|   Male|           0|           0|            40| United-States|  >50K.|\n",
      "| 44|          Private| 160323| Some-college|           10| Married-civ-spouse| Machine-op-inspct|       Husband| Black|   Male|        7688|           0|            40| United-States|  >50K.|\n",
      "| 18|                ?| 103497| Some-college|           10|      Never-married|                 ?|     Own-child| White| Female|           0|           0|            30| United-States| <=50K.|\n",
      "| 34|          Private| 198693|         10th|            6|      Never-married|     Other-service| Not-in-family| White|   Male|           0|           0|            30| United-States| <=50K.|\n",
      "| 29|                ?| 227026|      HS-grad|            9|      Never-married|                 ?|     Unmarried| Black|   Male|           0|           0|            40| United-States| <=50K.|\n",
      "| 63| Self-emp-not-inc| 104626|  Prof-school|           15| Married-civ-spouse|    Prof-specialty|       Husband| White|   Male|        3103|           0|            32| United-States|  >50K.|\n",
      "| 24|          Private| 369667| Some-college|           10|      Never-married|     Other-service|     Unmarried| White| Female|           0|           0|            40| United-States| <=50K.|\n",
      "| 55|          Private| 104996|      7th-8th|            4| Married-civ-spouse|      Craft-repair|       Husband| White|   Male|           0|           0|            10| United-States| <=50K.|\n",
      "+---+-----------------+-------+-------------+-------------+-------------------+------------------+--------------+------+-------+------------+------------+--------------+--------------+-------+\n",
      "only showing top 10 rows\n",
      "\n"
     ]
    }
   ],
   "source": [
    "df_test.show(10)"
   ]
  },
  {
   "cell_type": "markdown",
   "metadata": {},
   "source": [
    "2. Seleccionar un conjunto relevante de 5 atributos y crear un Spark Pipeline en el que el estimator sea un DecisionTreeClassifier (https://spark.apache.org/docs/latest/ml-classification-regression.html#decision-tree-classifier). Puede utilizar libremente los transformers/estimators de Spark para realizar ingeniería de atributos (StringIndexer, OneHotEncoding, etc)."
   ]
  },
  {
   "cell_type": "code",
   "execution_count": 17,
   "metadata": {},
   "outputs": [],
   "source": [
    "atributos = [\"age\", \"sex\", \"occupation\", \"education\", \"workclass\"]\n",
    "\n",
    "#Primero hay que bucketizar la edad. La separamos en 3 buckets. \n",
    "\n",
    "def calculo_de_buckets(df, cantidad_buckets, columna):\n",
    "    df.createOrReplaceTempView(\"df_view\")\n",
    "    instancias_totales = spark.sql('''SELECT count(*) as count FROM df_view''').first()['count']\n",
    "    instancias_en_bucket = instancias_totales / cantidad_buckets\n",
    "    \n",
    "    limites = []\n",
    "    ultimo_limite_superior = None\n",
    "    for limit in range(0, instancias_totales - 1, round(instancias_en_bucket)): # se pone un -1 porque instancias totales es el count pero queremos llegar hasta el indice        \n",
    "        query = spark.sql(f'''SELECT {columna} FROM df_view ORDER BY 1 asc''').collect()\n",
    "        limite_inferior = query[limit][columna]\n",
    "        \n",
    "        if(ultimo_limite_superior is not None):\n",
    "            if ultimo_limite_superior == limite_inferior:\n",
    "                limite_inferior += 1;\n",
    "        \n",
    "        limite = [limite_inferior, query[limit + round(instancias_en_bucket)][columna]]\n",
    "        limites.append(limite)\n",
    "        \n",
    "        ultimo_limite_superior = query[limit + round(instancias_en_bucket)][columna]\n",
    "\n",
    "    return limites\n",
    "\n",
    "limites = calculo_de_buckets(df_adult, 3, \"age\")"
   ]
  },
  {
   "cell_type": "code",
   "execution_count": 15,
   "metadata": {},
   "outputs": [
    {
     "name": "stdout",
     "output_type": "stream",
     "text": [
      "+---+-----------------+-------+-------------+-------------+--------------------+------------------+--------------+-------------------+-------+------------+------------+--------------+--------------+------+----------+\n",
      "|age|        workclass| fnlwgt|    education|education_num|      marital-status|        occupation|  relationship|               race|    sex|capital_gain|capital_loss|hours_per_week|native_country|income|age_bucket|\n",
      "+---+-----------------+-------+-------------+-------------+--------------------+------------------+--------------+-------------------+-------+------------+------------+--------------+--------------+------+----------+\n",
      "| 50| Self-emp-not-inc|  83311|    Bachelors|           13|  Married-civ-spouse|   Exec-managerial|       Husband|              White|   Male|           0|           0|            13| United-States| <=50K|         2|\n",
      "| 38|          Private| 215646|      HS-grad|            9|            Divorced| Handlers-cleaners| Not-in-family|              White|   Male|           0|           0|            40| United-States| <=50K|         1|\n",
      "| 53|          Private| 234721|         11th|            7|  Married-civ-spouse| Handlers-cleaners|       Husband|              Black|   Male|           0|           0|            40| United-States| <=50K|         2|\n",
      "| 28|          Private| 338409|    Bachelors|           13|  Married-civ-spouse|    Prof-specialty|          Wife|              Black| Female|           0|           0|            40|          Cuba| <=50K|         0|\n",
      "| 37|          Private| 284582|      Masters|           14|  Married-civ-spouse|   Exec-managerial|          Wife|              White| Female|           0|           0|            40| United-States| <=50K|         1|\n",
      "| 49|          Private| 160187|          9th|            5| Married-spouse-a...|     Other-service| Not-in-family|              Black| Female|           0|           0|            16|       Jamaica| <=50K|         2|\n",
      "| 52| Self-emp-not-inc| 209642|      HS-grad|            9|  Married-civ-spouse|   Exec-managerial|       Husband|              White|   Male|           0|           0|            45| United-States|  >50K|         2|\n",
      "| 31|          Private|  45781|      Masters|           14|       Never-married|    Prof-specialty| Not-in-family|              White| Female|       14084|           0|            50| United-States|  >50K|         0|\n",
      "| 42|          Private| 159449|    Bachelors|           13|  Married-civ-spouse|   Exec-managerial|       Husband|              White|   Male|        5178|           0|            40| United-States|  >50K|         1|\n",
      "| 37|          Private| 280464| Some-college|           10|  Married-civ-spouse|   Exec-managerial|       Husband|              Black|   Male|           0|           0|            80| United-States|  >50K|         1|\n",
      "| 30|        State-gov| 141297|    Bachelors|           13|  Married-civ-spouse|    Prof-specialty|       Husband| Asian-Pac-Islander|   Male|           0|           0|            40|         India|  >50K|         0|\n",
      "| 23|          Private| 122272|    Bachelors|           13|       Never-married|      Adm-clerical|     Own-child|              White| Female|           0|           0|            30| United-States| <=50K|         0|\n",
      "| 32|          Private| 205019|   Assoc-acdm|           12|       Never-married|             Sales| Not-in-family|              Black|   Male|           0|           0|            50| United-States| <=50K|         1|\n",
      "| 40|          Private| 121772|    Assoc-voc|           11|  Married-civ-spouse|      Craft-repair|       Husband| Asian-Pac-Islander|   Male|           0|           0|            40|             ?|  >50K|         1|\n",
      "| 34|          Private| 245487|      7th-8th|            4|  Married-civ-spouse|  Transport-moving|       Husband| Amer-Indian-Eskimo|   Male|           0|           0|            45|        Mexico| <=50K|         1|\n",
      "| 25| Self-emp-not-inc| 176756|      HS-grad|            9|       Never-married|   Farming-fishing|     Own-child|              White|   Male|           0|           0|            35| United-States| <=50K|         0|\n",
      "| 32|          Private| 186824|      HS-grad|            9|       Never-married| Machine-op-inspct|     Unmarried|              White|   Male|           0|           0|            40| United-States| <=50K|         1|\n",
      "| 38|          Private|  28887|         11th|            7|  Married-civ-spouse|             Sales|       Husband|              White|   Male|           0|           0|            50| United-States| <=50K|         1|\n",
      "| 43| Self-emp-not-inc| 292175|      Masters|           14|            Divorced|   Exec-managerial|     Unmarried|              White| Female|           0|           0|            45| United-States|  >50K|         1|\n",
      "| 40|          Private| 193524|    Doctorate|           16|  Married-civ-spouse|    Prof-specialty|       Husband|              White|   Male|           0|           0|            60| United-States|  >50K|         1|\n",
      "+---+-----------------+-------+-------------+-------------+--------------------+------------------+--------------+-------------------+-------+------------+------------+--------------+--------------+------+----------+\n",
      "only showing top 20 rows\n",
      "\n"
     ]
    }
   ],
   "source": [
    "from pyspark.sql import functions as F\n",
    "\n",
    "def age_bucket_udf(age):\n",
    "    indexes = range(len(limites))\n",
    "    for index, limite in zip(indexes, limites):\n",
    "        if age in range(limite[0], limite[1] + 1):    #Se agrega el +1 para hacer el range inclusivo superiormente\n",
    "            return index\n",
    "\n",
    "age_udf = F.udf(age_bucket_udf, IntegerType())\n",
    "\n",
    "df_adult_bucketized = df_adult.withColumn(\"ageLabel\", age_udf(F.col(\"age\")))\n",
    "df_adult_bucketized.show()"
   ]
  },
  {
   "cell_type": "code",
   "execution_count": 118,
   "metadata": {},
   "outputs": [],
   "source": [
    "from pyspark.ml import Pipeline\n",
    "from pyspark.ml.classification import DecisionTreeClassifier\n",
    "from pyspark.ml.feature import StringIndexer, VectorIndexer, VectorAssembler"
   ]
  },
  {
   "cell_type": "code",
   "execution_count": 165,
   "metadata": {},
   "outputs": [],
   "source": [
    "def get_indexers(columnas):\n",
    "    \n",
    "    list_indexer = []\n",
    "    \n",
    "    for columna in columnas:\n",
    "        list_indexer.append(StringIndexer(inputCol=columna, outputCol=columna+\"Label\"))\n",
    "    \n",
    "    return list_indexer"
   ]
  },
  {
   "cell_type": "code",
   "execution_count": 186,
   "metadata": {},
   "outputs": [],
   "source": [
    "cols = [\"sex\", \"occupation\", \"education\", \"workclass\"]\n",
    "features_col = 'income'\n",
    "\n",
    "labels_cols = []\n",
    "for col in cols:\n",
    "    labels_cols.append(col+\"Label\")\n",
    "\n",
    "indexersLabels = get_indexers(cols)\n",
    "\n",
    "featureIndexer = VectorIndexer().setInputCol(features_col).setOutputCol(features_col+\"Feature\")\n",
    "\n",
    "assembler = VectorAssembler(\n",
    "    inputCols=labels_cols,\n",
    "    outputCol=\"features\")"
   ]
  },
  {
   "cell_type": "code",
   "execution_count": 187,
   "metadata": {},
   "outputs": [
    {
     "name": "stdout",
     "output_type": "stream",
     "text": [
      "+---+-----------------+-------+-------------+-------------+--------------------+------------------+--------------+------+-------+------------+------------+--------------+--------------+------+--------------+\n",
      "|age|        workclass| fnlwgt|    education|education_num|      marital-status|        occupation|  relationship|  race|    sex|capital_gain|capital_loss|hours_per_week|native_country|income|incomeFeatures|\n",
      "+---+-----------------+-------+-------------+-------------+--------------------+------------------+--------------+------+-------+------------+------------+--------------+--------------+------+--------------+\n",
      "| 50| Self-emp-not-inc|  83311|    Bachelors|           13|  Married-civ-spouse|   Exec-managerial|       Husband| White|   Male|           0|           0|            13| United-States| <=50K|           0.0|\n",
      "| 38|          Private| 215646|      HS-grad|            9|            Divorced| Handlers-cleaners| Not-in-family| White|   Male|           0|           0|            40| United-States| <=50K|           0.0|\n",
      "| 53|          Private| 234721|         11th|            7|  Married-civ-spouse| Handlers-cleaners|       Husband| Black|   Male|           0|           0|            40| United-States| <=50K|           0.0|\n",
      "| 28|          Private| 338409|    Bachelors|           13|  Married-civ-spouse|    Prof-specialty|          Wife| Black| Female|           0|           0|            40|          Cuba| <=50K|           0.0|\n",
      "| 37|          Private| 284582|      Masters|           14|  Married-civ-spouse|   Exec-managerial|          Wife| White| Female|           0|           0|            40| United-States| <=50K|           0.0|\n",
      "| 49|          Private| 160187|          9th|            5| Married-spouse-a...|     Other-service| Not-in-family| Black| Female|           0|           0|            16|       Jamaica| <=50K|           0.0|\n",
      "| 52| Self-emp-not-inc| 209642|      HS-grad|            9|  Married-civ-spouse|   Exec-managerial|       Husband| White|   Male|           0|           0|            45| United-States|  >50K|           1.0|\n",
      "| 31|          Private|  45781|      Masters|           14|       Never-married|    Prof-specialty| Not-in-family| White| Female|       14084|           0|            50| United-States|  >50K|           1.0|\n",
      "| 42|          Private| 159449|    Bachelors|           13|  Married-civ-spouse|   Exec-managerial|       Husband| White|   Male|        5178|           0|            40| United-States|  >50K|           1.0|\n",
      "| 37|          Private| 280464| Some-college|           10|  Married-civ-spouse|   Exec-managerial|       Husband| Black|   Male|           0|           0|            80| United-States|  >50K|           1.0|\n",
      "+---+-----------------+-------+-------------+-------------+--------------------+------------------+--------------+------+-------+------------+------------+--------------+--------------+------+--------------+\n",
      "only showing top 10 rows\n",
      "\n"
     ]
    }
   ],
   "source": [
    "data = indexerFeatures.fit(df_adult).transform(df_adult)\n",
    "data.show(10)"
   ]
  },
  {
   "cell_type": "code",
   "execution_count": null,
   "metadata": {},
   "outputs": [],
   "source": []
  },
  {
   "cell_type": "code",
   "execution_count": 188,
   "metadata": {},
   "outputs": [],
   "source": [
    "# Train a DecisionTree model.\n",
    "dt = DecisionTreeClassifier(labelCol=\"features\", featuresCol=features_col+\"Features\")"
   ]
  },
  {
   "cell_type": "code",
   "execution_count": 192,
   "metadata": {},
   "outputs": [],
   "source": [
    "# Chain indexers and tree in a Pipeline\n",
    "pipeline = Pipeline(stages=indexersLabels + [featureIndexer] + [dt])"
   ]
  },
  {
   "cell_type": "markdown",
   "metadata": {},
   "source": [
    "3. Hacer el fit del pipeline con los datos de entrenamiento. \n"
   ]
  },
  {
   "cell_type": "code",
   "execution_count": 193,
   "metadata": {},
   "outputs": [],
   "source": [
    "trainingData = df_adult_bucketized\n",
    "testData = df_test"
   ]
  },
  {
   "cell_type": "code",
   "execution_count": 194,
   "metadata": {},
   "outputs": [
    {
     "ename": "IllegalArgumentException",
     "evalue": "requirement failed: Column income must be of type class org.apache.spark.ml.linalg.VectorUDT:struct<type:tinyint,size:int,indices:array<int>,values:array<double>> but was actually class org.apache.spark.sql.types.StringType$:string.",
     "output_type": "error",
     "traceback": [
      "\u001b[1;31m---------------------------------------------------------------------------\u001b[0m",
      "\u001b[1;31mIllegalArgumentException\u001b[0m                  Traceback (most recent call last)",
      "\u001b[1;32m<ipython-input-194-ab0cb0b1820a>\u001b[0m in \u001b[0;36m<module>\u001b[1;34m\u001b[0m\n\u001b[0;32m      1\u001b[0m \u001b[1;31m# Train model.  This also runs the indexers.\u001b[0m\u001b[1;33m\u001b[0m\u001b[1;33m\u001b[0m\u001b[1;33m\u001b[0m\u001b[0m\n\u001b[1;32m----> 2\u001b[1;33m \u001b[0mmodel\u001b[0m \u001b[1;33m=\u001b[0m \u001b[0mpipeline\u001b[0m\u001b[1;33m.\u001b[0m\u001b[0mfit\u001b[0m\u001b[1;33m(\u001b[0m\u001b[0mtrainingData\u001b[0m\u001b[1;33m)\u001b[0m\u001b[1;33m\u001b[0m\u001b[1;33m\u001b[0m\u001b[0m\n\u001b[0m",
      "\u001b[1;32m~\\AppData\\Local\\Packages\\PythonSoftwareFoundation.Python.3.8_qbz5n2kfra8p0\\LocalCache\\local-packages\\Python38\\site-packages\\pyspark\\ml\\base.py\u001b[0m in \u001b[0;36mfit\u001b[1;34m(self, dataset, params)\u001b[0m\n\u001b[0;32m    159\u001b[0m                 \u001b[1;32mreturn\u001b[0m \u001b[0mself\u001b[0m\u001b[1;33m.\u001b[0m\u001b[0mcopy\u001b[0m\u001b[1;33m(\u001b[0m\u001b[0mparams\u001b[0m\u001b[1;33m)\u001b[0m\u001b[1;33m.\u001b[0m\u001b[0m_fit\u001b[0m\u001b[1;33m(\u001b[0m\u001b[0mdataset\u001b[0m\u001b[1;33m)\u001b[0m\u001b[1;33m\u001b[0m\u001b[1;33m\u001b[0m\u001b[0m\n\u001b[0;32m    160\u001b[0m             \u001b[1;32melse\u001b[0m\u001b[1;33m:\u001b[0m\u001b[1;33m\u001b[0m\u001b[1;33m\u001b[0m\u001b[0m\n\u001b[1;32m--> 161\u001b[1;33m                 \u001b[1;32mreturn\u001b[0m \u001b[0mself\u001b[0m\u001b[1;33m.\u001b[0m\u001b[0m_fit\u001b[0m\u001b[1;33m(\u001b[0m\u001b[0mdataset\u001b[0m\u001b[1;33m)\u001b[0m\u001b[1;33m\u001b[0m\u001b[1;33m\u001b[0m\u001b[0m\n\u001b[0m\u001b[0;32m    162\u001b[0m         \u001b[1;32melse\u001b[0m\u001b[1;33m:\u001b[0m\u001b[1;33m\u001b[0m\u001b[1;33m\u001b[0m\u001b[0m\n\u001b[0;32m    163\u001b[0m             raise ValueError(\"Params must be either a param map or a list/tuple of param maps, \"\n",
      "\u001b[1;32m~\\AppData\\Local\\Packages\\PythonSoftwareFoundation.Python.3.8_qbz5n2kfra8p0\\LocalCache\\local-packages\\Python38\\site-packages\\pyspark\\ml\\pipeline.py\u001b[0m in \u001b[0;36m_fit\u001b[1;34m(self, dataset)\u001b[0m\n\u001b[0;32m    112\u001b[0m                     \u001b[0mdataset\u001b[0m \u001b[1;33m=\u001b[0m \u001b[0mstage\u001b[0m\u001b[1;33m.\u001b[0m\u001b[0mtransform\u001b[0m\u001b[1;33m(\u001b[0m\u001b[0mdataset\u001b[0m\u001b[1;33m)\u001b[0m\u001b[1;33m\u001b[0m\u001b[1;33m\u001b[0m\u001b[0m\n\u001b[0;32m    113\u001b[0m                 \u001b[1;32melse\u001b[0m\u001b[1;33m:\u001b[0m  \u001b[1;31m# must be an Estimator\u001b[0m\u001b[1;33m\u001b[0m\u001b[1;33m\u001b[0m\u001b[0m\n\u001b[1;32m--> 114\u001b[1;33m                     \u001b[0mmodel\u001b[0m \u001b[1;33m=\u001b[0m \u001b[0mstage\u001b[0m\u001b[1;33m.\u001b[0m\u001b[0mfit\u001b[0m\u001b[1;33m(\u001b[0m\u001b[0mdataset\u001b[0m\u001b[1;33m)\u001b[0m\u001b[1;33m\u001b[0m\u001b[1;33m\u001b[0m\u001b[0m\n\u001b[0m\u001b[0;32m    115\u001b[0m                     \u001b[0mtransformers\u001b[0m\u001b[1;33m.\u001b[0m\u001b[0mappend\u001b[0m\u001b[1;33m(\u001b[0m\u001b[0mmodel\u001b[0m\u001b[1;33m)\u001b[0m\u001b[1;33m\u001b[0m\u001b[1;33m\u001b[0m\u001b[0m\n\u001b[0;32m    116\u001b[0m                     \u001b[1;32mif\u001b[0m \u001b[0mi\u001b[0m \u001b[1;33m<\u001b[0m \u001b[0mindexOfLastEstimator\u001b[0m\u001b[1;33m:\u001b[0m\u001b[1;33m\u001b[0m\u001b[1;33m\u001b[0m\u001b[0m\n",
      "\u001b[1;32m~\\AppData\\Local\\Packages\\PythonSoftwareFoundation.Python.3.8_qbz5n2kfra8p0\\LocalCache\\local-packages\\Python38\\site-packages\\pyspark\\ml\\base.py\u001b[0m in \u001b[0;36mfit\u001b[1;34m(self, dataset, params)\u001b[0m\n\u001b[0;32m    159\u001b[0m                 \u001b[1;32mreturn\u001b[0m \u001b[0mself\u001b[0m\u001b[1;33m.\u001b[0m\u001b[0mcopy\u001b[0m\u001b[1;33m(\u001b[0m\u001b[0mparams\u001b[0m\u001b[1;33m)\u001b[0m\u001b[1;33m.\u001b[0m\u001b[0m_fit\u001b[0m\u001b[1;33m(\u001b[0m\u001b[0mdataset\u001b[0m\u001b[1;33m)\u001b[0m\u001b[1;33m\u001b[0m\u001b[1;33m\u001b[0m\u001b[0m\n\u001b[0;32m    160\u001b[0m             \u001b[1;32melse\u001b[0m\u001b[1;33m:\u001b[0m\u001b[1;33m\u001b[0m\u001b[1;33m\u001b[0m\u001b[0m\n\u001b[1;32m--> 161\u001b[1;33m                 \u001b[1;32mreturn\u001b[0m \u001b[0mself\u001b[0m\u001b[1;33m.\u001b[0m\u001b[0m_fit\u001b[0m\u001b[1;33m(\u001b[0m\u001b[0mdataset\u001b[0m\u001b[1;33m)\u001b[0m\u001b[1;33m\u001b[0m\u001b[1;33m\u001b[0m\u001b[0m\n\u001b[0m\u001b[0;32m    162\u001b[0m         \u001b[1;32melse\u001b[0m\u001b[1;33m:\u001b[0m\u001b[1;33m\u001b[0m\u001b[1;33m\u001b[0m\u001b[0m\n\u001b[0;32m    163\u001b[0m             raise ValueError(\"Params must be either a param map or a list/tuple of param maps, \"\n",
      "\u001b[1;32m~\\AppData\\Local\\Packages\\PythonSoftwareFoundation.Python.3.8_qbz5n2kfra8p0\\LocalCache\\local-packages\\Python38\\site-packages\\pyspark\\ml\\wrapper.py\u001b[0m in \u001b[0;36m_fit\u001b[1;34m(self, dataset)\u001b[0m\n\u001b[0;32m    333\u001b[0m \u001b[1;33m\u001b[0m\u001b[0m\n\u001b[0;32m    334\u001b[0m     \u001b[1;32mdef\u001b[0m \u001b[0m_fit\u001b[0m\u001b[1;33m(\u001b[0m\u001b[0mself\u001b[0m\u001b[1;33m,\u001b[0m \u001b[0mdataset\u001b[0m\u001b[1;33m)\u001b[0m\u001b[1;33m:\u001b[0m\u001b[1;33m\u001b[0m\u001b[1;33m\u001b[0m\u001b[0m\n\u001b[1;32m--> 335\u001b[1;33m         \u001b[0mjava_model\u001b[0m \u001b[1;33m=\u001b[0m \u001b[0mself\u001b[0m\u001b[1;33m.\u001b[0m\u001b[0m_fit_java\u001b[0m\u001b[1;33m(\u001b[0m\u001b[0mdataset\u001b[0m\u001b[1;33m)\u001b[0m\u001b[1;33m\u001b[0m\u001b[1;33m\u001b[0m\u001b[0m\n\u001b[0m\u001b[0;32m    336\u001b[0m         \u001b[0mmodel\u001b[0m \u001b[1;33m=\u001b[0m \u001b[0mself\u001b[0m\u001b[1;33m.\u001b[0m\u001b[0m_create_model\u001b[0m\u001b[1;33m(\u001b[0m\u001b[0mjava_model\u001b[0m\u001b[1;33m)\u001b[0m\u001b[1;33m\u001b[0m\u001b[1;33m\u001b[0m\u001b[0m\n\u001b[0;32m    337\u001b[0m         \u001b[1;32mreturn\u001b[0m \u001b[0mself\u001b[0m\u001b[1;33m.\u001b[0m\u001b[0m_copyValues\u001b[0m\u001b[1;33m(\u001b[0m\u001b[0mmodel\u001b[0m\u001b[1;33m)\u001b[0m\u001b[1;33m\u001b[0m\u001b[1;33m\u001b[0m\u001b[0m\n",
      "\u001b[1;32m~\\AppData\\Local\\Packages\\PythonSoftwareFoundation.Python.3.8_qbz5n2kfra8p0\\LocalCache\\local-packages\\Python38\\site-packages\\pyspark\\ml\\wrapper.py\u001b[0m in \u001b[0;36m_fit_java\u001b[1;34m(self, dataset)\u001b[0m\n\u001b[0;32m    330\u001b[0m         \"\"\"\n\u001b[0;32m    331\u001b[0m         \u001b[0mself\u001b[0m\u001b[1;33m.\u001b[0m\u001b[0m_transfer_params_to_java\u001b[0m\u001b[1;33m(\u001b[0m\u001b[1;33m)\u001b[0m\u001b[1;33m\u001b[0m\u001b[1;33m\u001b[0m\u001b[0m\n\u001b[1;32m--> 332\u001b[1;33m         \u001b[1;32mreturn\u001b[0m \u001b[0mself\u001b[0m\u001b[1;33m.\u001b[0m\u001b[0m_java_obj\u001b[0m\u001b[1;33m.\u001b[0m\u001b[0mfit\u001b[0m\u001b[1;33m(\u001b[0m\u001b[0mdataset\u001b[0m\u001b[1;33m.\u001b[0m\u001b[0m_jdf\u001b[0m\u001b[1;33m)\u001b[0m\u001b[1;33m\u001b[0m\u001b[1;33m\u001b[0m\u001b[0m\n\u001b[0m\u001b[0;32m    333\u001b[0m \u001b[1;33m\u001b[0m\u001b[0m\n\u001b[0;32m    334\u001b[0m     \u001b[1;32mdef\u001b[0m \u001b[0m_fit\u001b[0m\u001b[1;33m(\u001b[0m\u001b[0mself\u001b[0m\u001b[1;33m,\u001b[0m \u001b[0mdataset\u001b[0m\u001b[1;33m)\u001b[0m\u001b[1;33m:\u001b[0m\u001b[1;33m\u001b[0m\u001b[1;33m\u001b[0m\u001b[0m\n",
      "\u001b[1;32m~\\AppData\\Local\\Packages\\PythonSoftwareFoundation.Python.3.8_qbz5n2kfra8p0\\LocalCache\\local-packages\\Python38\\site-packages\\py4j\\java_gateway.py\u001b[0m in \u001b[0;36m__call__\u001b[1;34m(self, *args)\u001b[0m\n\u001b[0;32m   1302\u001b[0m \u001b[1;33m\u001b[0m\u001b[0m\n\u001b[0;32m   1303\u001b[0m         \u001b[0manswer\u001b[0m \u001b[1;33m=\u001b[0m \u001b[0mself\u001b[0m\u001b[1;33m.\u001b[0m\u001b[0mgateway_client\u001b[0m\u001b[1;33m.\u001b[0m\u001b[0msend_command\u001b[0m\u001b[1;33m(\u001b[0m\u001b[0mcommand\u001b[0m\u001b[1;33m)\u001b[0m\u001b[1;33m\u001b[0m\u001b[1;33m\u001b[0m\u001b[0m\n\u001b[1;32m-> 1304\u001b[1;33m         return_value = get_return_value(\n\u001b[0m\u001b[0;32m   1305\u001b[0m             answer, self.gateway_client, self.target_id, self.name)\n\u001b[0;32m   1306\u001b[0m \u001b[1;33m\u001b[0m\u001b[0m\n",
      "\u001b[1;32m~\\AppData\\Local\\Packages\\PythonSoftwareFoundation.Python.3.8_qbz5n2kfra8p0\\LocalCache\\local-packages\\Python38\\site-packages\\pyspark\\sql\\utils.py\u001b[0m in \u001b[0;36mdeco\u001b[1;34m(*a, **kw)\u001b[0m\n\u001b[0;32m    115\u001b[0m                 \u001b[1;31m# Hide where the exception came from that shows a non-Pythonic\u001b[0m\u001b[1;33m\u001b[0m\u001b[1;33m\u001b[0m\u001b[1;33m\u001b[0m\u001b[0m\n\u001b[0;32m    116\u001b[0m                 \u001b[1;31m# JVM exception message.\u001b[0m\u001b[1;33m\u001b[0m\u001b[1;33m\u001b[0m\u001b[1;33m\u001b[0m\u001b[0m\n\u001b[1;32m--> 117\u001b[1;33m                 \u001b[1;32mraise\u001b[0m \u001b[0mconverted\u001b[0m \u001b[1;32mfrom\u001b[0m \u001b[1;32mNone\u001b[0m\u001b[1;33m\u001b[0m\u001b[1;33m\u001b[0m\u001b[0m\n\u001b[0m\u001b[0;32m    118\u001b[0m             \u001b[1;32melse\u001b[0m\u001b[1;33m:\u001b[0m\u001b[1;33m\u001b[0m\u001b[1;33m\u001b[0m\u001b[0m\n\u001b[0;32m    119\u001b[0m                 \u001b[1;32mraise\u001b[0m\u001b[1;33m\u001b[0m\u001b[1;33m\u001b[0m\u001b[0m\n",
      "\u001b[1;31mIllegalArgumentException\u001b[0m: requirement failed: Column income must be of type class org.apache.spark.ml.linalg.VectorUDT:struct<type:tinyint,size:int,indices:array<int>,values:array<double>> but was actually class org.apache.spark.sql.types.StringType$:string."
     ]
    }
   ],
   "source": [
    "# Train model.  This also runs the indexers.\n",
    "model = pipeline.fit(trainingData)"
   ]
  },
  {
   "cell_type": "code",
   "execution_count": 172,
   "metadata": {},
   "outputs": [],
   "source": [
    "# Make predictions.\n",
    "predictions = model.transform(testData)"
   ]
  },
  {
   "cell_type": "code",
   "execution_count": 173,
   "metadata": {},
   "outputs": [
    {
     "name": "stdout",
     "output_type": "stream",
     "text": [
      "+---+-----------------+-------+-------------+-------------+--------------------+------------------+--------------+-------------------+-------+------------+------------+--------------+-------------------+-------+--------+---------------+--------------+--------------+-------------------+-------------+-----------+----------+\n",
      "|age|        workclass| fnlwgt|    education|education_num|      marital-status|        occupation|  relationship|               race|    sex|capital_gain|capital_loss|hours_per_week|     native_country| income|sexLabel|occupationLabel|educationLabel|workclassLabel|     incomeFeatures|rawPrediction|probability|prediction|\n",
      "+---+-----------------+-------+-------------+-------------+--------------------+------------------+--------------+-------------------+-------+------------+------------+--------------+-------------------+-------+--------+---------------+--------------+--------------+-------------------+-------------+-----------+----------+\n",
      "| 25|          Private| 226802|         11th|            7|       Never-married| Machine-op-inspct|     Own-child|              Black|   Male|           0|           0|            40|      United-States| <=50K.|     0.0|            6.0|           5.0|           0.0|  [0.0,6.0,5.0,0.0]|[21789.0,0.0]|  [1.0,0.0]|       0.0|\n",
      "| 38|          Private|  89814|      HS-grad|            9|  Married-civ-spouse|   Farming-fishing|       Husband|              White|   Male|           0|           0|            50|      United-States| <=50K.|     0.0|           10.0|           0.0|           0.0|     (4,[1],[10.0])|[21789.0,0.0]|  [1.0,0.0]|       0.0|\n",
      "| 28|        Local-gov| 336951|   Assoc-acdm|           12|  Married-civ-spouse|   Protective-serv|       Husband|              White|   Male|           0|           0|            40|      United-States|  >50K.|     0.0|           12.0|           6.0|           2.0| [0.0,12.0,6.0,2.0]|[21789.0,0.0]|  [1.0,0.0]|       0.0|\n",
      "| 44|          Private| 160323| Some-college|           10|  Married-civ-spouse| Machine-op-inspct|       Husband|              Black|   Male|        7688|           0|            40|      United-States|  >50K.|     0.0|            6.0|           1.0|           0.0|  [0.0,6.0,1.0,0.0]|[21789.0,0.0]|  [1.0,0.0]|       0.0|\n",
      "| 18|                ?| 103497| Some-college|           10|       Never-married|                 ?|     Own-child|              White| Female|           0|           0|            30|      United-States| <=50K.|     1.0|            7.0|           1.0|           3.0|  [1.0,7.0,1.0,3.0]|[0.0,10771.0]|  [0.0,1.0]|       1.0|\n",
      "| 34|          Private| 198693|         10th|            6|       Never-married|     Other-service| Not-in-family|              White|   Male|           0|           0|            30|      United-States| <=50K.|     0.0|            5.0|           7.0|           0.0|  [0.0,5.0,7.0,0.0]|[21789.0,0.0]|  [1.0,0.0]|       0.0|\n",
      "| 29|                ?| 227026|      HS-grad|            9|       Never-married|                 ?|     Unmarried|              Black|   Male|           0|           0|            40|      United-States| <=50K.|     0.0|            7.0|           0.0|           3.0|  [0.0,7.0,0.0,3.0]|[21789.0,0.0]|  [1.0,0.0]|       0.0|\n",
      "| 63| Self-emp-not-inc| 104626|  Prof-school|           15|  Married-civ-spouse|    Prof-specialty|       Husband|              White|   Male|        3103|           0|            32|      United-States|  >50K.|     0.0|            0.0|           9.0|           1.0|  [0.0,0.0,9.0,1.0]|[21789.0,0.0]|  [1.0,0.0]|       0.0|\n",
      "| 24|          Private| 369667| Some-college|           10|       Never-married|     Other-service|     Unmarried|              White| Female|           0|           0|            40|      United-States| <=50K.|     1.0|            5.0|           1.0|           0.0|  [1.0,5.0,1.0,0.0]|[0.0,10771.0]|  [0.0,1.0]|       1.0|\n",
      "| 55|          Private| 104996|      7th-8th|            4|  Married-civ-spouse|      Craft-repair|       Husband|              White|   Male|           0|           0|            10|      United-States| <=50K.|     0.0|            1.0|           8.0|           0.0|  [0.0,1.0,8.0,0.0]|[21789.0,0.0]|  [1.0,0.0]|       0.0|\n",
      "| 65|          Private| 184454|      HS-grad|            9|  Married-civ-spouse| Machine-op-inspct|       Husband|              White|   Male|        6418|           0|            40|      United-States|  >50K.|     0.0|            6.0|           0.0|           0.0|      (4,[1],[6.0])|[21789.0,0.0]|  [1.0,0.0]|       0.0|\n",
      "| 36|      Federal-gov| 212465|    Bachelors|           13|  Married-civ-spouse|      Adm-clerical|       Husband|              White|   Male|           0|           0|            40|      United-States| <=50K.|     0.0|            3.0|           2.0|           6.0|  [0.0,3.0,2.0,6.0]|[21789.0,0.0]|  [1.0,0.0]|       0.0|\n",
      "| 26|          Private|  82091|      HS-grad|            9|       Never-married|      Adm-clerical| Not-in-family|              White| Female|           0|           0|            39|      United-States| <=50K.|     1.0|            3.0|           0.0|           0.0|  [1.0,3.0,0.0,0.0]|[0.0,10771.0]|  [0.0,1.0]|       1.0|\n",
      "| 58|                ?| 299831|      HS-grad|            9|  Married-civ-spouse|                 ?|       Husband|              White|   Male|           0|           0|            35|      United-States| <=50K.|     0.0|            7.0|           0.0|           3.0|  [0.0,7.0,0.0,3.0]|[21789.0,0.0]|  [1.0,0.0]|       0.0|\n",
      "| 48|          Private| 279724|      HS-grad|            9|  Married-civ-spouse| Machine-op-inspct|       Husband|              White|   Male|        3103|           0|            48|      United-States|  >50K.|     0.0|            6.0|           0.0|           0.0|      (4,[1],[6.0])|[21789.0,0.0]|  [1.0,0.0]|       0.0|\n",
      "| 43|          Private| 346189|      Masters|           14|  Married-civ-spouse|   Exec-managerial|       Husband|              White|   Male|           0|           0|            50|      United-States|  >50K.|     0.0|            2.0|           3.0|           0.0|  [0.0,2.0,3.0,0.0]|[21789.0,0.0]|  [1.0,0.0]|       0.0|\n",
      "| 20|        State-gov| 444554| Some-college|           10|       Never-married|     Other-service|     Own-child|              White|   Male|           0|           0|            25|      United-States| <=50K.|     0.0|            5.0|           1.0|           4.0|  [0.0,5.0,1.0,4.0]|[21789.0,0.0]|  [1.0,0.0]|       0.0|\n",
      "| 43|          Private| 128354|      HS-grad|            9|  Married-civ-spouse|      Adm-clerical|          Wife|              White| Female|           0|           0|            30|      United-States| <=50K.|     1.0|            3.0|           0.0|           0.0|  [1.0,3.0,0.0,0.0]|[0.0,10771.0]|  [0.0,1.0]|       1.0|\n",
      "| 37|          Private|  60548|      HS-grad|            9|             Widowed| Machine-op-inspct|     Unmarried|              White| Female|           0|           0|            20|      United-States| <=50K.|     1.0|            6.0|           0.0|           0.0|  [1.0,6.0,0.0,0.0]|[0.0,10771.0]|  [0.0,1.0]|       1.0|\n",
      "| 40|          Private|  85019|    Doctorate|           16|  Married-civ-spouse|    Prof-specialty|       Husband| Asian-Pac-Islander|   Male|           0|           0|            45|                  ?|  >50K.|     0.0|            0.0|          12.0|           0.0|     (4,[2],[12.0])|[21789.0,0.0]|  [1.0,0.0]|       0.0|\n",
      "| 34|          Private| 107914|    Bachelors|           13|  Married-civ-spouse|      Tech-support|       Husband|              White|   Male|           0|           0|            47|      United-States|  >50K.|     0.0|           11.0|           2.0|           0.0| [0.0,11.0,2.0,0.0]|[21789.0,0.0]|  [1.0,0.0]|       0.0|\n",
      "| 34|          Private| 238588| Some-college|           10|       Never-married|     Other-service|     Own-child|              Black| Female|           0|           0|            35|      United-States| <=50K.|     1.0|            5.0|           1.0|           0.0|  [1.0,5.0,1.0,0.0]|[0.0,10771.0]|  [0.0,1.0]|       1.0|\n",
      "| 72|                ?| 132015|      7th-8th|            4|            Divorced|                 ?| Not-in-family|              White| Female|           0|           0|             6|      United-States| <=50K.|     1.0|            7.0|           8.0|           3.0|  [1.0,7.0,8.0,3.0]|[0.0,10771.0]|  [0.0,1.0]|       1.0|\n",
      "| 25|          Private| 220931|    Bachelors|           13|       Never-married|    Prof-specialty| Not-in-family|              White|   Male|           0|           0|            43|               Peru| <=50K.|     0.0|            0.0|           2.0|           0.0|      (4,[2],[2.0])|[21789.0,0.0]|  [1.0,0.0]|       0.0|\n",
      "| 25|          Private| 205947|    Bachelors|           13|  Married-civ-spouse|    Prof-specialty|       Husband|              White|   Male|           0|           0|            40|      United-States| <=50K.|     0.0|            0.0|           2.0|           0.0|      (4,[2],[2.0])|[21789.0,0.0]|  [1.0,0.0]|       0.0|\n",
      "| 45| Self-emp-not-inc| 432824|      HS-grad|            9|  Married-civ-spouse|      Craft-repair|       Husband|              White|   Male|        7298|           0|            90|      United-States|  >50K.|     0.0|            1.0|           0.0|           1.0|  [0.0,1.0,0.0,1.0]|[21789.0,0.0]|  [1.0,0.0]|       0.0|\n",
      "| 22|          Private| 236427|      HS-grad|            9|       Never-married|      Adm-clerical|     Own-child|              White|   Male|           0|           0|            20|      United-States| <=50K.|     0.0|            3.0|           0.0|           0.0|      (4,[1],[3.0])|[21789.0,0.0]|  [1.0,0.0]|       0.0|\n",
      "| 23|          Private| 134446|      HS-grad|            9|           Separated| Machine-op-inspct|     Unmarried|              Black|   Male|           0|           0|            54|      United-States| <=50K.|     0.0|            6.0|           0.0|           0.0|      (4,[1],[6.0])|[21789.0,0.0]|  [1.0,0.0]|       0.0|\n",
      "| 54|          Private|  99516|      HS-grad|            9|  Married-civ-spouse|      Craft-repair|       Husband|              White|   Male|           0|           0|            35|      United-States| <=50K.|     0.0|            1.0|           0.0|           0.0|      (4,[1],[1.0])|[21789.0,0.0]|  [1.0,0.0]|       0.0|\n",
      "| 32| Self-emp-not-inc| 109282| Some-college|           10|       Never-married|    Prof-specialty| Not-in-family|              White|   Male|           0|           0|            60|      United-States| <=50K.|     0.0|            0.0|           1.0|           1.0|  [0.0,0.0,1.0,1.0]|[21789.0,0.0]|  [1.0,0.0]|       0.0|\n",
      "| 46|        State-gov| 106444| Some-college|           10|  Married-civ-spouse|   Exec-managerial|       Husband|              Black|   Male|        7688|           0|            38|      United-States|  >50K.|     0.0|            2.0|           1.0|           4.0|  [0.0,2.0,1.0,4.0]|[21789.0,0.0]|  [1.0,0.0]|       0.0|\n",
      "| 56| Self-emp-not-inc| 186651|         11th|            7|             Widowed|     Other-service|     Unmarried|              White| Female|           0|           0|            50|      United-States| <=50K.|     1.0|            5.0|           5.0|           1.0|  [1.0,5.0,5.0,1.0]|[0.0,10771.0]|  [0.0,1.0]|       1.0|\n",
      "| 24| Self-emp-not-inc| 188274|    Bachelors|           13|       Never-married|             Sales| Not-in-family|              White|   Male|           0|           0|            50|      United-States| <=50K.|     0.0|            4.0|           2.0|           1.0|  [0.0,4.0,2.0,1.0]|[21789.0,0.0]|  [1.0,0.0]|       0.0|\n",
      "| 23|        Local-gov| 258120| Some-college|           10|  Married-civ-spouse|   Protective-serv|       Husband|              White|   Male|           0|           0|            40|      United-States| <=50K.|     0.0|           12.0|           1.0|           2.0| [0.0,12.0,1.0,2.0]|[21789.0,0.0]|  [1.0,0.0]|       0.0|\n",
      "| 26|          Private|  43311|      HS-grad|            9|            Divorced|   Exec-managerial|     Unmarried|              White| Female|           0|           0|            40|      United-States| <=50K.|     1.0|            2.0|           0.0|           0.0|  [1.0,2.0,0.0,0.0]|[0.0,10771.0]|  [0.0,1.0]|       1.0|\n",
      "| 65|                ?| 191846|      HS-grad|            9|  Married-civ-spouse|                 ?|       Husband|              White|   Male|           0|           0|            40|      United-States| <=50K.|     0.0|            7.0|           0.0|           3.0|  [0.0,7.0,0.0,3.0]|[21789.0,0.0]|  [1.0,0.0]|       0.0|\n",
      "| 36|        Local-gov| 403681|    Bachelors|           13|  Married-civ-spouse|    Prof-specialty|       Husband|              White|   Male|           0|           0|            40|      United-States|  >50K.|     0.0|            0.0|           2.0|           2.0|  [0.0,0.0,2.0,2.0]|[21789.0,0.0]|  [1.0,0.0]|       0.0|\n",
      "| 22|          Private| 248446|      5th-6th|            3|       Never-married|   Priv-house-serv| Not-in-family|              White|   Male|           0|           0|            50|          Guatemala| <=50K.|     0.0|           13.0|          13.0|           0.0|[0.0,13.0,13.0,0.0]|[21789.0,0.0]|  [1.0,0.0]|       0.0|\n",
      "| 17|          Private| 269430|         10th|            6|       Never-married| Machine-op-inspct| Not-in-family|              White|   Male|           0|           0|            40|      United-States| <=50K.|     0.0|            6.0|           7.0|           0.0|  [0.0,6.0,7.0,0.0]|[21789.0,0.0]|  [1.0,0.0]|       0.0|\n",
      "| 20|          Private| 257509|      HS-grad|            9|       Never-married|      Craft-repair|     Own-child|              White|   Male|           0|           0|            40|      United-States| <=50K.|     0.0|            1.0|           0.0|           0.0|      (4,[1],[1.0])|[21789.0,0.0]|  [1.0,0.0]|       0.0|\n",
      "| 65|          Private| 136384|      Masters|           14|  Married-civ-spouse|    Prof-specialty|       Husband|              White|   Male|           0|           0|            50|      United-States|  >50K.|     0.0|            0.0|           3.0|           0.0|      (4,[2],[3.0])|[21789.0,0.0]|  [1.0,0.0]|       0.0|\n",
      "| 44|     Self-emp-inc| 120277|    Assoc-voc|           11|  Married-civ-spouse|             Sales|       Husband|              White|   Male|           0|           0|            45|      United-States|  >50K.|     0.0|            4.0|           4.0|           5.0|  [0.0,4.0,4.0,5.0]|[21789.0,0.0]|  [1.0,0.0]|       0.0|\n",
      "| 36|          Private| 465326|      HS-grad|            9|  Married-civ-spouse|   Farming-fishing|       Husband|              White|   Male|           0|           0|            40|      United-States| <=50K.|     0.0|           10.0|           0.0|           0.0|     (4,[1],[10.0])|[21789.0,0.0]|  [1.0,0.0]|       0.0|\n",
      "| 29|          Private| 103634|         11th|            7|  Married-civ-spouse|     Other-service|       Husband|              White|   Male|           0|           0|            40|      United-States| <=50K.|     0.0|            5.0|           5.0|           0.0|  [0.0,5.0,5.0,0.0]|[21789.0,0.0]|  [1.0,0.0]|       0.0|\n",
      "| 20|        State-gov| 138371| Some-college|           10|       Never-married|   Farming-fishing|     Own-child|              White|   Male|           0|           0|            32|      United-States| <=50K.|     0.0|           10.0|           1.0|           4.0| [0.0,10.0,1.0,4.0]|[21789.0,0.0]|  [1.0,0.0]|       0.0|\n",
      "| 28|          Private| 242832|    Assoc-voc|           11|  Married-civ-spouse|    Prof-specialty|          Wife|              White| Female|           0|           0|            36|      United-States|  >50K.|     1.0|            0.0|           4.0|           0.0|  [1.0,0.0,4.0,0.0]|[0.0,10771.0]|  [0.0,1.0]|       1.0|\n",
      "| 39|          Private| 290208|      7th-8th|            4|  Married-civ-spouse|      Craft-repair|       Husband|              White|   Male|           0|           0|            40|             Mexico| <=50K.|     0.0|            1.0|           8.0|           0.0|  [0.0,1.0,8.0,0.0]|[21789.0,0.0]|  [1.0,0.0]|       0.0|\n",
      "| 54|          Private| 186272| Some-college|           10|  Married-civ-spouse|  Transport-moving|       Husband|              White|   Male|        3908|           0|            50|      United-States| <=50K.|     0.0|            8.0|           1.0|           0.0|  [0.0,8.0,1.0,0.0]|[21789.0,0.0]|  [1.0,0.0]|       0.0|\n",
      "| 52|          Private| 201062|         11th|            7|           Separated|   Priv-house-serv| Not-in-family|              Black| Female|           0|           0|            18|      United-States| <=50K.|     1.0|           13.0|           5.0|           0.0| [1.0,13.0,5.0,0.0]|[0.0,10771.0]|  [0.0,1.0]|       1.0|\n",
      "| 56|     Self-emp-inc| 131916|      HS-grad|            9|             Widowed|   Exec-managerial| Not-in-family|              White| Female|           0|           0|            50|      United-States| <=50K.|     1.0|            2.0|           0.0|           5.0|  [1.0,2.0,0.0,5.0]|[0.0,10771.0]|  [0.0,1.0]|       1.0|\n",
      "| 18|          Private|  54440| Some-college|           10|       Never-married|     Other-service|     Own-child|              White|   Male|           0|           0|            20|      United-States| <=50K.|     0.0|            5.0|           1.0|           0.0|  [0.0,5.0,1.0,0.0]|[21789.0,0.0]|  [1.0,0.0]|       0.0|\n",
      "| 39|          Private| 280215|      HS-grad|            9|            Divorced| Handlers-cleaners|     Own-child|              Black|   Male|           0|           0|            40|      United-States| <=50K.|     0.0|            9.0|           0.0|           0.0|      (4,[1],[9.0])|[21789.0,0.0]|  [1.0,0.0]|       0.0|\n",
      "| 21|          Private| 214399| Some-college|           10|       Never-married|     Other-service|     Own-child|              White| Female|           0|        1721|            24|      United-States| <=50K.|     1.0|            5.0|           1.0|           0.0|  [1.0,5.0,1.0,0.0]|[0.0,10771.0]|  [0.0,1.0]|       1.0|\n",
      "| 22|          Private|  54164|      HS-grad|            9|       Never-married|     Other-service| Not-in-family|              White|   Male|       14084|           0|            60|      United-States|  >50K.|     0.0|            5.0|           0.0|           0.0|      (4,[1],[5.0])|[21789.0,0.0]|  [1.0,0.0]|       0.0|\n",
      "| 38|          Private| 219446|          9th|            5| Married-spouse-a...|   Exec-managerial| Not-in-family|              White|   Male|           0|           0|            54|             Mexico| <=50K.|     0.0|            2.0|          10.0|           0.0| [0.0,2.0,10.0,0.0]|[21789.0,0.0]|  [1.0,0.0]|       0.0|\n",
      "| 21|          Private| 110677| Some-college|           10|       Never-married|      Adm-clerical|     Own-child|              White| Female|           0|           0|            40|      United-States| <=50K.|     1.0|            3.0|           1.0|           0.0|  [1.0,3.0,1.0,0.0]|[0.0,10771.0]|  [0.0,1.0]|       1.0|\n",
      "| 63|          Private| 145985|      HS-grad|            9|  Married-civ-spouse|      Craft-repair|       Husband|              White|   Male|           0|           0|            40|      United-States| <=50K.|     0.0|            1.0|           0.0|           0.0|      (4,[1],[1.0])|[21789.0,0.0]|  [1.0,0.0]|       0.0|\n",
      "| 34|        Local-gov| 382078|    Bachelors|           13|  Married-civ-spouse|   Exec-managerial|       Husband|              White|   Male|        3103|           0|            50|      United-States|  >50K.|     0.0|            2.0|           2.0|           2.0|  [0.0,2.0,2.0,2.0]|[21789.0,0.0]|  [1.0,0.0]|       0.0|\n",
      "| 42|     Self-emp-inc| 170721|      HS-grad|            9|  Married-civ-spouse|   Exec-managerial|       Husband|              White|   Male|        5178|           0|            50|      United-States|  >50K.|     0.0|            2.0|           0.0|           5.0|  [0.0,2.0,0.0,5.0]|[21789.0,0.0]|  [1.0,0.0]|       0.0|\n",
      "| 33|          Private| 269705|      HS-grad|            9|  Married-civ-spouse| Handlers-cleaners|       Husband|              White|   Male|           0|           0|            40|      United-States| <=50K.|     0.0|            9.0|           0.0|           0.0|      (4,[1],[9.0])|[21789.0,0.0]|  [1.0,0.0]|       0.0|\n",
      "| 30|          Private| 101135|    Bachelors|           13|       Never-married|   Exec-managerial| Not-in-family|              White| Female|           0|           0|            50|      United-States| <=50K.|     1.0|            2.0|           2.0|           0.0|  [1.0,2.0,2.0,0.0]|[0.0,10771.0]|  [0.0,1.0]|       1.0|\n",
      "| 39|          Private| 118429| Some-college|           10|            Divorced|             Sales| Not-in-family|              White|   Male|           0|           0|            40|      United-States| <=50K.|     0.0|            4.0|           1.0|           0.0|  [0.0,4.0,1.0,0.0]|[21789.0,0.0]|  [1.0,0.0]|       0.0|\n",
      "| 26|          Private|  31208|      Masters|           14|       Never-married|   Exec-managerial| Not-in-family|              White| Female|           0|           0|            40|      United-States| <=50K.|     1.0|            2.0|           3.0|           0.0|  [1.0,2.0,3.0,0.0]|[0.0,10771.0]|  [0.0,1.0]|       1.0|\n",
      "| 33|          Private| 281384|      HS-grad|            9|       Never-married| Machine-op-inspct|     Own-child|              White| Female|           0|           0|            40|      United-States| <=50K.|     1.0|            6.0|           0.0|           0.0|  [1.0,6.0,0.0,0.0]|[0.0,10771.0]|  [0.0,1.0]|       1.0|\n",
      "| 47|        Local-gov| 171807|      HS-grad|            9|            Divorced|      Adm-clerical| Not-in-family|              White| Female|           0|           0|            40|      United-States| <=50K.|     1.0|            3.0|           0.0|           2.0|  [1.0,3.0,0.0,2.0]|[0.0,10771.0]|  [0.0,1.0]|       1.0|\n",
      "| 41|          Private| 109912|    Bachelors|           13|       Never-married|     Other-service| Not-in-family|              White| Female|           0|           0|            40|                  ?| <=50K.|     1.0|            5.0|           2.0|           0.0|  [1.0,5.0,2.0,0.0]|[0.0,10771.0]|  [0.0,1.0]|       1.0|\n",
      "| 41|     Self-emp-inc| 445382|   Assoc-acdm|           12|  Married-civ-spouse|      Craft-repair|       Husband|              White|   Male|       15024|           0|            60|      United-States|  >50K.|     0.0|            1.0|           6.0|           5.0|  [0.0,1.0,6.0,5.0]|[21789.0,0.0]|  [1.0,0.0]|       0.0|\n",
      "| 19|          Private| 105460| Some-college|           10|       Never-married|     Other-service|     Own-child|              White|   Male|           0|           0|            20|      United-States| <=50K.|     0.0|            5.0|           1.0|           0.0|  [0.0,5.0,1.0,0.0]|[21789.0,0.0]|  [1.0,0.0]|       0.0|\n",
      "| 46|          Private| 170338|      HS-grad|            9|           Separated|  Transport-moving| Not-in-family|              White|   Male|           0|           0|            40|      United-States| <=50K.|     0.0|            8.0|           0.0|           0.0|      (4,[1],[8.0])|[21789.0,0.0]|  [1.0,0.0]|       0.0|\n",
      "| 43|          Private| 102606|      HS-grad|            9|  Married-civ-spouse|             Sales|       Husband|              White|   Male|           0|           0|            48|      United-States| <=50K.|     0.0|            4.0|           0.0|           0.0|      (4,[1],[4.0])|[21789.0,0.0]|  [1.0,0.0]|       0.0|\n",
      "| 55|          Private| 323887| Some-college|           10|  Married-civ-spouse|   Exec-managerial|       Husband|              White|   Male|       15024|           0|            45|      United-States|  >50K.|     0.0|            2.0|           1.0|           0.0|  [0.0,2.0,1.0,0.0]|[21789.0,0.0]|  [1.0,0.0]|       0.0|\n",
      "| 46|          Private| 175622|    Assoc-voc|           11|  Married-civ-spouse|      Tech-support|       Husband|              White|   Male|           0|           0|            40|      United-States| <=50K.|     0.0|           11.0|           4.0|           0.0| [0.0,11.0,4.0,0.0]|[21789.0,0.0]|  [1.0,0.0]|       0.0|\n",
      "| 30|          Private| 229636|      HS-grad|            9|  Married-civ-spouse| Machine-op-inspct|       Husband|              White|   Male|           0|           0|            40|             Mexico| <=50K.|     0.0|            6.0|           0.0|           0.0|      (4,[1],[6.0])|[21789.0,0.0]|  [1.0,0.0]|       0.0|\n",
      "| 21|          Private| 388946| Some-college|           10|           Separated| Handlers-cleaners| Not-in-family|              White| Female|           0|           0|            40|      United-States| <=50K.|     1.0|            9.0|           1.0|           0.0|  [1.0,9.0,1.0,0.0]|[0.0,10771.0]|  [0.0,1.0]|       1.0|\n",
      "| 46|          Private| 269034| Some-college|           10|  Married-civ-spouse|      Craft-repair|       Husband|              Other|   Male|           0|           0|            40| Dominican-Republic| <=50K.|     0.0|            1.0|           1.0|           0.0|  [0.0,1.0,1.0,0.0]|[21789.0,0.0]|  [1.0,0.0]|       0.0|\n",
      "| 17|                ?| 165361|         10th|            6|       Never-married|                 ?|     Own-child|              White|   Male|           0|           0|            40|      United-States| <=50K.|     0.0|            7.0|           7.0|           3.0|  [0.0,7.0,7.0,3.0]|[21789.0,0.0]|  [1.0,0.0]|       0.0|\n",
      "| 41|          Private|  75012|      HS-grad|            9|  Married-civ-spouse| Machine-op-inspct|       Husband|              White|   Male|           0|           0|            50|      United-States| <=50K.|     0.0|            6.0|           0.0|           0.0|      (4,[1],[6.0])|[21789.0,0.0]|  [1.0,0.0]|       0.0|\n",
      "| 69|     Self-emp-inc| 174379|      HS-grad|            9|  Married-civ-spouse|             Sales|       Husband|              White|   Male|           0|           0|            30|      United-States| <=50K.|     0.0|            4.0|           0.0|           5.0|  [0.0,4.0,0.0,5.0]|[21789.0,0.0]|  [1.0,0.0]|       0.0|\n",
      "| 50|          Private| 312477|      HS-grad|            9|  Married-civ-spouse|  Transport-moving|       Husband|              White|   Male|           0|           0|            40|      United-States| <=50K.|     0.0|            8.0|           0.0|           0.0|      (4,[1],[8.0])|[21789.0,0.0]|  [1.0,0.0]|       0.0|\n",
      "| 20|          Private|  72055| Some-college|           10|       Never-married|      Adm-clerical| Not-in-family|              White| Female|           0|           0|            40|      United-States| <=50K.|     1.0|            3.0|           1.0|           0.0|  [1.0,3.0,1.0,0.0]|[0.0,10771.0]|  [0.0,1.0]|       1.0|\n",
      "| 45|     Self-emp-inc|  67001| Some-college|           10|  Married-civ-spouse| Machine-op-inspct|       Husband|              White|   Male|           0|           0|            50|      United-States| <=50K.|     0.0|            6.0|           1.0|           5.0|  [0.0,6.0,1.0,5.0]|[21789.0,0.0]|  [1.0,0.0]|       0.0|\n",
      "| 23|          Private| 213734|    Bachelors|           13|       Never-married|   Exec-managerial| Not-in-family|              White|   Male|           0|           0|            40|      United-States| <=50K.|     0.0|            2.0|           2.0|           0.0|  [0.0,2.0,2.0,0.0]|[21789.0,0.0]|  [1.0,0.0]|       0.0|\n",
      "| 24|          Private|  83141| Some-college|           10|           Separated|     Other-service| Not-in-family|              White|   Male|           0|        1876|            40|      United-States| <=50K.|     0.0|            5.0|           1.0|           0.0|  [0.0,5.0,1.0,0.0]|[21789.0,0.0]|  [1.0,0.0]|       0.0|\n",
      "| 44|     Self-emp-inc| 223881|      HS-grad|            9|  Married-civ-spouse|      Craft-repair|       Husband|              White|   Male|       99999|           0|            50|                  ?|  >50K.|     0.0|            1.0|           0.0|           5.0|  [0.0,1.0,0.0,5.0]|[21789.0,0.0]|  [1.0,0.0]|       0.0|\n",
      "| 31| Self-emp-not-inc| 113752| Some-college|           10|  Married-civ-spouse|      Craft-repair|       Husband|              White|   Male|           0|           0|            50|      United-States| <=50K.|     0.0|            1.0|           1.0|           1.0|  [0.0,1.0,1.0,1.0]|[21789.0,0.0]|  [1.0,0.0]|       0.0|\n",
      "| 43|          Private| 170482|      HS-grad|            9|           Separated| Machine-op-inspct| Not-in-family|              White| Female|           0|           0|            44|      United-States| <=50K.|     1.0|            6.0|           0.0|           0.0|  [1.0,6.0,0.0,0.0]|[0.0,10771.0]|  [0.0,1.0]|       1.0|\n",
      "| 20|      Federal-gov| 244689|         11th|            7|       Never-married|     Other-service|     Own-child|              White| Female|           0|           0|            10|      United-States| <=50K.|     1.0|            5.0|           5.0|           6.0|  [1.0,5.0,5.0,6.0]|[0.0,10771.0]|  [0.0,1.0]|       1.0|\n",
      "| 55|          Private| 160631|      HS-grad|            9|  Married-civ-spouse|             Sales|       Husband|              White|   Male|           0|           0|            56|      United-States|  >50K.|     0.0|            4.0|           0.0|           0.0|      (4,[1],[4.0])|[21789.0,0.0]|  [1.0,0.0]|       0.0|\n",
      "| 24|      Federal-gov| 228724| Some-college|           10|       Never-married|      Armed-Forces| Not-in-family|              White|   Male|           0|           0|            40|      United-States| <=50K.|     0.0|           14.0|           1.0|           6.0| [0.0,14.0,1.0,6.0]|[21789.0,0.0]|  [1.0,0.0]|       0.0|\n",
      "| 41|                ?|  38434|      Masters|           14|  Married-civ-spouse|                 ?|          Wife|              White| Female|        7688|           0|            10|      United-States|  >50K.|     1.0|            7.0|           3.0|           3.0|  [1.0,7.0,3.0,3.0]|[0.0,10771.0]|  [0.0,1.0]|       1.0|\n",
      "| 59|          Private| 292946|    Bachelors|           13|       Never-married|   Exec-managerial| Not-in-family|              White| Female|           0|           0|            25|      United-States| <=50K.|     1.0|            2.0|           2.0|           0.0|  [1.0,2.0,2.0,0.0]|[0.0,10771.0]|  [0.0,1.0]|       1.0|\n",
      "| 49|      Federal-gov|  77443|      7th-8th|            4|       Never-married|     Other-service| Not-in-family|              Black|   Male|           0|           0|            20|      United-States| <=50K.|     0.0|            5.0|           8.0|           6.0|  [0.0,5.0,8.0,6.0]|[21789.0,0.0]|  [1.0,0.0]|       0.0|\n",
      "| 33|          Private| 176410|      Masters|           14|  Married-civ-spouse|    Prof-specialty|          Wife|              White| Female|        5178|           0|            10|      United-States|  >50K.|     1.0|            0.0|           3.0|           0.0|  [1.0,0.0,3.0,0.0]|[0.0,10771.0]|  [0.0,1.0]|       1.0|\n",
      "| 59|      Federal-gov|  98984|    Bachelors|           13|            Divorced|      Adm-clerical| Not-in-family|              White|   Male|           0|           0|            40|      United-States| <=50K.|     0.0|            3.0|           2.0|           6.0|  [0.0,3.0,2.0,6.0]|[21789.0,0.0]|  [1.0,0.0]|       0.0|\n",
      "| 34|          Private| 198751|      Masters|           14|       Never-married|     Other-service| Not-in-family| Amer-Indian-Eskimo|   Male|           0|           0|            40|      United-States| <=50K.|     0.0|            5.0|           3.0|           0.0|  [0.0,5.0,3.0,0.0]|[21789.0,0.0]|  [1.0,0.0]|       0.0|\n",
      "| 20|          Private| 479296|      HS-grad|            9|       Never-married| Handlers-cleaners|     Own-child|              White|   Male|           0|           0|            40|      United-States| <=50K.|     0.0|            9.0|           0.0|           0.0|      (4,[1],[9.0])|[21789.0,0.0]|  [1.0,0.0]|       0.0|\n",
      "| 25|          Private| 235218|    Bachelors|           13|       Never-married|   Exec-managerial|     Own-child|              White| Female|           0|           0|            40|      United-States| <=50K.|     1.0|            2.0|           2.0|           0.0|  [1.0,2.0,2.0,0.0]|[0.0,10771.0]|  [0.0,1.0]|       1.0|\n",
      "| 49|          Private| 164877|         10th|            6|  Married-civ-spouse|   Farming-fishing|       Husband|              White|   Male|           0|           0|            40|      United-States| <=50K.|     0.0|           10.0|           7.0|           0.0| [0.0,10.0,7.0,0.0]|[21789.0,0.0]|  [1.0,0.0]|       0.0|\n",
      "| 59|          Private| 272087|      HS-grad|            9|  Married-civ-spouse|  Transport-moving|       Husband|              White|   Male|           0|           0|            40|      United-States|  >50K.|     0.0|            8.0|           0.0|           0.0|      (4,[1],[8.0])|[21789.0,0.0]|  [1.0,0.0]|       0.0|\n",
      "| 20|          Private| 169699|      HS-grad|            9|       Never-married|      Adm-clerical| Not-in-family|              White| Female|           0|           0|            40|      United-States| <=50K.|     1.0|            3.0|           0.0|           0.0|  [1.0,3.0,0.0,0.0]|[0.0,10771.0]|  [0.0,1.0]|       1.0|\n",
      "+---+-----------------+-------+-------------+-------------+--------------------+------------------+--------------+-------------------+-------+------------+------------+--------------+-------------------+-------+--------+---------------+--------------+--------------+-------------------+-------------+-----------+----------+\n",
      "only showing top 100 rows\n",
      "\n"
     ]
    }
   ],
   "source": [
    "predictions.show(100)"
   ]
  },
  {
   "cell_type": "code",
   "execution_count": null,
   "metadata": {},
   "outputs": [],
   "source": []
  },
  {
   "cell_type": "code",
   "execution_count": null,
   "metadata": {},
   "outputs": [],
   "source": []
  },
  {
   "cell_type": "code",
   "execution_count": null,
   "metadata": {},
   "outputs": [],
   "source": [
    "#"
   ]
  },
  {
   "cell_type": "markdown",
   "metadata": {},
   "source": [
    "4. Graficar la curva ROC utilizando los datos de validación (sin usar el paquete de evluación de Spark pyspark.ml.evaluation)"
   ]
  },
  {
   "cell_type": "code",
   "execution_count": 6,
   "metadata": {},
   "outputs": [],
   "source": [
    "#"
   ]
  },
  {
   "cell_type": "markdown",
   "metadata": {},
   "source": [
    "5. Escribir dos funciones train() y predict() que creen el arbol de acuerdo a la metodología vista en clase (utilizando entropía como métrica de homogeneidad de clases).\n",
    "```\n",
    "def train(train_dataframe):\n",
    "    '''\n",
    "    @return devuelve una estructura de datos que representa el árbol de decision\n",
    "    '''\n",
    "     pass        \n",
    "```\n",
    "\n",
    "```\n",
    "def predict(tree, train_dataframe)\n",
    "    '''\n",
    "    @param tree la estructura de datos que representa el árbol de decisión.\n",
    "    @ return un dataframe con todos los datos de train_dataframe con una columna adicional que representa la probabilidad de que el income sea >50K. \n",
    "    '''\n",
    "    pass\n",
    "```    \n",
    "Ejemplo de uso:\n",
    "\n",
    "```\n",
    "tree = train(train_dataframe)\n",
    "predictions_df = predict(tree, train_dataframe)\n",
    "```"
   ]
  },
  {
   "cell_type": "code",
   "execution_count": 7,
   "metadata": {},
   "outputs": [],
   "source": [
    "# "
   ]
  },
  {
   "cell_type": "markdown",
   "metadata": {},
   "source": [
    "<i>[Extra credit y alumnos masters]</i>\n",
    "    \n",
    "5.  Mejorar la implementación de su algoritmo evitando hacer el split cuando no se logra un mínimo de Information Gain ( https://en.wikipedia.org/wiki/Information_gain_in_decision_trees   )\n"
   ]
  },
  {
   "cell_type": "code",
   "execution_count": 8,
   "metadata": {},
   "outputs": [],
   "source": [
    "#"
   ]
  }
 ],
 "metadata": {
  "kernelspec": {
   "display_name": "Python 3",
   "language": "python",
   "name": "python3"
  },
  "language_info": {
   "codemirror_mode": {
    "name": "ipython",
    "version": 3
   },
   "file_extension": ".py",
   "mimetype": "text/x-python",
   "name": "python",
   "nbconvert_exporter": "python",
   "pygments_lexer": "ipython3",
   "version": "3.8.8"
  }
 },
 "nbformat": 4,
 "nbformat_minor": 4
}
